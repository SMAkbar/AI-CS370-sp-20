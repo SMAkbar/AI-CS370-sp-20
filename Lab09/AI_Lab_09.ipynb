{
  "nbformat": 4,
  "nbformat_minor": 0,
  "metadata": {
    "colab": {
      "name": "AI_Lab_09.ipynb",
      "provenance": [],
      "collapsed_sections": [],
      "toc_visible": true
    },
    "kernelspec": {
      "name": "python3",
      "display_name": "Python 3"
    }
  },
  "cells": [
    {
      "cell_type": "markdown",
      "metadata": {
        "id": "zfRWgdeO7MQW",
        "colab_type": "text"
      },
      "source": [
        "# Artificial Intellegence \n",
        "#### Lab 09\n",
        "\n",
        "<i> Syed Muhammad Akbar </i><br>\n",
        "<i> 237544 </i><br>\n",
        "<i> BSCS 7B </i>"
      ]
    },
    {
      "cell_type": "markdown",
      "metadata": {
        "id": "6_O_PqZV7q7Z",
        "colab_type": "text"
      },
      "source": [
        "## <i> Train </i>\n",
        "Decision Tree classifier considering the following table data. The ‘Play Golf’ represents the (class) label, while Outlook, Temp, Humidity, and Windy are the attributes/predictors."
      ]
    },
    {
      "cell_type": "code",
      "metadata": {
        "id": "7WpV_L4x7EKE",
        "colab_type": "code",
        "colab": {}
      },
      "source": [
        "import pandas as pd\n",
        "import os\n",
        "import numpy as np\n",
        "import math"
      ],
      "execution_count": 0,
      "outputs": []
    },
    {
      "cell_type": "markdown",
      "metadata": {
        "id": "pc2EjOqUbBym",
        "colab_type": "text"
      },
      "source": [
        "# DATA\n",
        "\n",
        "Data and Data Description"
      ]
    },
    {
      "cell_type": "code",
      "metadata": {
        "colab_type": "code",
        "outputId": "104ec229-0ffd-43b6-a452-5201a6b24e62",
        "id": "6tPIjz16BLiT",
        "colab": {
          "base_uri": "https://localhost:8080/",
          "height": 462
        }
      },
      "source": [
        "data_frame = pd.DataFrame(\n",
        "    {\n",
        "        'Outlook': ['Rainy', 'Rainy', 'Overcast', 'Sunny', 'Sunny', 'Sunny', 'Overcast', 'Rainy', 'Rainy', 'Sunny', 'Rainy', 'Overcast', 'Overcast','Sunny'],\n",
        "        'Temp': ['Hot', 'Hot', 'Hot', 'Mild', 'Cool', 'Cool', 'Cool', 'Mild', 'Cool', 'Mild', 'Mild', 'Mild', 'Hot', 'Mild'],\n",
        "        'Humidity': ['High', 'High', 'High', 'High', 'Normal', 'Normal', 'Normal', 'High', 'Normal', 'Normal', 'Normal', 'High', 'Normal', 'High'],\n",
        "        'Windy' : ['False', 'True', 'False', 'False', 'False', 'True', 'True', 'False', 'False', 'False', 'True', 'True', 'False', 'True'],\n",
        "        'Play Golf' : ['No', 'No', 'Yes', 'Yes', 'Yes', 'No', 'Yes', 'No', 'Yes', 'Yes', 'Yes', 'Yes', 'Yes', 'No']\n",
        "    }\n",
        ")\n",
        "data_frame\n"
      ],
      "execution_count": 0,
      "outputs": [
        {
          "output_type": "execute_result",
          "data": {
            "text/html": [
              "<div>\n",
              "<style scoped>\n",
              "    .dataframe tbody tr th:only-of-type {\n",
              "        vertical-align: middle;\n",
              "    }\n",
              "\n",
              "    .dataframe tbody tr th {\n",
              "        vertical-align: top;\n",
              "    }\n",
              "\n",
              "    .dataframe thead th {\n",
              "        text-align: right;\n",
              "    }\n",
              "</style>\n",
              "<table border=\"1\" class=\"dataframe\">\n",
              "  <thead>\n",
              "    <tr style=\"text-align: right;\">\n",
              "      <th></th>\n",
              "      <th>Outlook</th>\n",
              "      <th>Temp</th>\n",
              "      <th>Humidity</th>\n",
              "      <th>Windy</th>\n",
              "      <th>Play Golf</th>\n",
              "    </tr>\n",
              "  </thead>\n",
              "  <tbody>\n",
              "    <tr>\n",
              "      <th>0</th>\n",
              "      <td>Rainy</td>\n",
              "      <td>Hot</td>\n",
              "      <td>High</td>\n",
              "      <td>False</td>\n",
              "      <td>No</td>\n",
              "    </tr>\n",
              "    <tr>\n",
              "      <th>1</th>\n",
              "      <td>Rainy</td>\n",
              "      <td>Hot</td>\n",
              "      <td>High</td>\n",
              "      <td>True</td>\n",
              "      <td>No</td>\n",
              "    </tr>\n",
              "    <tr>\n",
              "      <th>2</th>\n",
              "      <td>Overcast</td>\n",
              "      <td>Hot</td>\n",
              "      <td>High</td>\n",
              "      <td>False</td>\n",
              "      <td>Yes</td>\n",
              "    </tr>\n",
              "    <tr>\n",
              "      <th>3</th>\n",
              "      <td>Sunny</td>\n",
              "      <td>Mild</td>\n",
              "      <td>High</td>\n",
              "      <td>False</td>\n",
              "      <td>Yes</td>\n",
              "    </tr>\n",
              "    <tr>\n",
              "      <th>4</th>\n",
              "      <td>Sunny</td>\n",
              "      <td>Cool</td>\n",
              "      <td>Normal</td>\n",
              "      <td>False</td>\n",
              "      <td>Yes</td>\n",
              "    </tr>\n",
              "    <tr>\n",
              "      <th>5</th>\n",
              "      <td>Sunny</td>\n",
              "      <td>Cool</td>\n",
              "      <td>Normal</td>\n",
              "      <td>True</td>\n",
              "      <td>No</td>\n",
              "    </tr>\n",
              "    <tr>\n",
              "      <th>6</th>\n",
              "      <td>Overcast</td>\n",
              "      <td>Cool</td>\n",
              "      <td>Normal</td>\n",
              "      <td>True</td>\n",
              "      <td>Yes</td>\n",
              "    </tr>\n",
              "    <tr>\n",
              "      <th>7</th>\n",
              "      <td>Rainy</td>\n",
              "      <td>Mild</td>\n",
              "      <td>High</td>\n",
              "      <td>False</td>\n",
              "      <td>No</td>\n",
              "    </tr>\n",
              "    <tr>\n",
              "      <th>8</th>\n",
              "      <td>Rainy</td>\n",
              "      <td>Cool</td>\n",
              "      <td>Normal</td>\n",
              "      <td>False</td>\n",
              "      <td>Yes</td>\n",
              "    </tr>\n",
              "    <tr>\n",
              "      <th>9</th>\n",
              "      <td>Sunny</td>\n",
              "      <td>Mild</td>\n",
              "      <td>Normal</td>\n",
              "      <td>False</td>\n",
              "      <td>Yes</td>\n",
              "    </tr>\n",
              "    <tr>\n",
              "      <th>10</th>\n",
              "      <td>Rainy</td>\n",
              "      <td>Mild</td>\n",
              "      <td>Normal</td>\n",
              "      <td>True</td>\n",
              "      <td>Yes</td>\n",
              "    </tr>\n",
              "    <tr>\n",
              "      <th>11</th>\n",
              "      <td>Overcast</td>\n",
              "      <td>Mild</td>\n",
              "      <td>High</td>\n",
              "      <td>True</td>\n",
              "      <td>Yes</td>\n",
              "    </tr>\n",
              "    <tr>\n",
              "      <th>12</th>\n",
              "      <td>Overcast</td>\n",
              "      <td>Hot</td>\n",
              "      <td>Normal</td>\n",
              "      <td>False</td>\n",
              "      <td>Yes</td>\n",
              "    </tr>\n",
              "    <tr>\n",
              "      <th>13</th>\n",
              "      <td>Sunny</td>\n",
              "      <td>Mild</td>\n",
              "      <td>High</td>\n",
              "      <td>True</td>\n",
              "      <td>No</td>\n",
              "    </tr>\n",
              "  </tbody>\n",
              "</table>\n",
              "</div>"
            ],
            "text/plain": [
              "     Outlook  Temp Humidity  Windy Play Golf\n",
              "0      Rainy   Hot     High  False        No\n",
              "1      Rainy   Hot     High   True        No\n",
              "2   Overcast   Hot     High  False       Yes\n",
              "3      Sunny  Mild     High  False       Yes\n",
              "4      Sunny  Cool   Normal  False       Yes\n",
              "5      Sunny  Cool   Normal   True        No\n",
              "6   Overcast  Cool   Normal   True       Yes\n",
              "7      Rainy  Mild     High  False        No\n",
              "8      Rainy  Cool   Normal  False       Yes\n",
              "9      Sunny  Mild   Normal  False       Yes\n",
              "10     Rainy  Mild   Normal   True       Yes\n",
              "11  Overcast  Mild     High   True       Yes\n",
              "12  Overcast   Hot   Normal  False       Yes\n",
              "13     Sunny  Mild     High   True        No"
            ]
          },
          "metadata": {
            "tags": []
          },
          "execution_count": 9
        }
      ]
    },
    {
      "cell_type": "code",
      "metadata": {
        "id": "NHyYG5oIj1NS",
        "colab_type": "code",
        "outputId": "bdb0c164-a369-4402-e131-f95f7558897f",
        "colab": {
          "base_uri": "https://localhost:8080/",
          "height": 166
        }
      },
      "source": [
        "data_frame.describe()"
      ],
      "execution_count": 0,
      "outputs": [
        {
          "output_type": "execute_result",
          "data": {
            "text/html": [
              "<div>\n",
              "<style scoped>\n",
              "    .dataframe tbody tr th:only-of-type {\n",
              "        vertical-align: middle;\n",
              "    }\n",
              "\n",
              "    .dataframe tbody tr th {\n",
              "        vertical-align: top;\n",
              "    }\n",
              "\n",
              "    .dataframe thead th {\n",
              "        text-align: right;\n",
              "    }\n",
              "</style>\n",
              "<table border=\"1\" class=\"dataframe\">\n",
              "  <thead>\n",
              "    <tr style=\"text-align: right;\">\n",
              "      <th></th>\n",
              "      <th>Outlook</th>\n",
              "      <th>Temp</th>\n",
              "      <th>Humidity</th>\n",
              "      <th>Windy</th>\n",
              "      <th>Play Golf</th>\n",
              "    </tr>\n",
              "  </thead>\n",
              "  <tbody>\n",
              "    <tr>\n",
              "      <th>count</th>\n",
              "      <td>14</td>\n",
              "      <td>14</td>\n",
              "      <td>14</td>\n",
              "      <td>14</td>\n",
              "      <td>14</td>\n",
              "    </tr>\n",
              "    <tr>\n",
              "      <th>unique</th>\n",
              "      <td>3</td>\n",
              "      <td>3</td>\n",
              "      <td>2</td>\n",
              "      <td>2</td>\n",
              "      <td>2</td>\n",
              "    </tr>\n",
              "    <tr>\n",
              "      <th>top</th>\n",
              "      <td>Sunny</td>\n",
              "      <td>Mild</td>\n",
              "      <td>Normal</td>\n",
              "      <td>False</td>\n",
              "      <td>Yes</td>\n",
              "    </tr>\n",
              "    <tr>\n",
              "      <th>freq</th>\n",
              "      <td>5</td>\n",
              "      <td>6</td>\n",
              "      <td>7</td>\n",
              "      <td>8</td>\n",
              "      <td>9</td>\n",
              "    </tr>\n",
              "  </tbody>\n",
              "</table>\n",
              "</div>"
            ],
            "text/plain": [
              "       Outlook  Temp Humidity  Windy Play Golf\n",
              "count       14    14       14     14        14\n",
              "unique       3     3        2      2         2\n",
              "top      Sunny  Mild   Normal  False       Yes\n",
              "freq         5     6        7      8         9"
            ]
          },
          "metadata": {
            "tags": []
          },
          "execution_count": 10
        }
      ]
    },
    {
      "cell_type": "markdown",
      "metadata": {
        "id": "BqnL1qj9bJwb",
        "colab_type": "text"
      },
      "source": [
        "# Entropy"
      ]
    },
    {
      "cell_type": "code",
      "metadata": {
        "id": "eJL4Q5Aapevt",
        "colab_type": "code",
        "outputId": "05058295-b1be-4961-cfbf-ce0ae8aa5302",
        "colab": {
          "base_uri": "https://localhost:8080/",
          "height": 34
        }
      },
      "source": [
        "def cal_entropy_label(data, label):\n",
        "  entropy = 0\n",
        "\n",
        "  label_set = data[label]\n",
        "  type_of_label = label_set.unique()\n",
        "  total = label_set.count()\n",
        "\n",
        "  for label_value in type_of_label:\n",
        "    temp = label_set[label_set == label_value]\n",
        "    prob = temp.count() / total \n",
        "    entropy_val = -prob * math.log(prob, 2)\n",
        "    entropy += entropy_val\n",
        "\n",
        "  return entropy \n",
        "\n",
        "decision_ntrpy = cal_entropy_label(data_frame, 'Play Golf')\n",
        "print(decision_ntrpy)"
      ],
      "execution_count": 0,
      "outputs": [
        {
          "output_type": "stream",
          "text": [
            "0.9402859586706309\n"
          ],
          "name": "stdout"
        }
      ]
    },
    {
      "cell_type": "markdown",
      "metadata": {
        "id": "V7z6iQHgbMO7",
        "colab_type": "text"
      },
      "source": [
        "# Gain"
      ]
    },
    {
      "cell_type": "code",
      "metadata": {
        "id": "_EoOFYUN_U9_",
        "colab_type": "code",
        "colab": {}
      },
      "source": [
        "def cal_gain(data, field, label):\n",
        "  gain = cal_entropy_label(data, label)\n",
        "  \n",
        "  total = len(data)\n",
        "\n",
        "  # type_of_label\n",
        "  label_set = data[label]\n",
        "  type_of_label = label_set.unique()\n",
        "  total_label = len(type_of_label)\n",
        "\n",
        "  # type_of_field\n",
        "  field_set = data[field]\n",
        "  type_of_field = field_set.unique()\n",
        "  total_field = len(type_of_field)\n",
        "\n",
        "  entropy_field = 0\n",
        "\n",
        "  #print(type_of_field)\n",
        "  for field_value in type_of_field:\n",
        "    data_field = data[data[field] == field_value]\n",
        "    total_field = len(data_field)\n",
        "\n",
        "    label_set = data_field[label]\n",
        "    type_of_label_field = label_set.unique()\n",
        "    total_label_field = len(type_of_label_field)\n",
        "    \n",
        "    #print(type_of_label_field)\n",
        "    if(total_label == total_label_field):\n",
        "      for label_value in type_of_label_field:\n",
        "        temp = data_field[data_field[label] == label_value]\n",
        "        prob = len(temp) / len(data_field)\n",
        "        #print(\"probability = \" + str(prob))\n",
        "        entropy_val = -prob * math.log(prob, 2)\n",
        "        entropy_field += ( total_field / total ) * entropy_val\n",
        "    else:\n",
        "      entropy_field += 0\n",
        "    \n",
        "  \n",
        "  gain -= entropy_field\n",
        "\n",
        "  return gain\n",
        "\n",
        "    \n",
        "\n",
        "# outlk_gain = cal_gain(data_frame, 'Outlook', 'Play Golf')\n",
        "# print(outlk_gain)\n",
        "# wndy_gain = cal_gain(data_frame, 'Windy', 'Play Golf')\n",
        "# print(wndy_gain)"
      ],
      "execution_count": 0,
      "outputs": []
    },
    {
      "cell_type": "markdown",
      "metadata": {
        "id": "aM6ReaKCbOMc",
        "colab_type": "text"
      },
      "source": [
        "# Building Tree"
      ]
    },
    {
      "cell_type": "code",
      "metadata": {
        "id": "3_UHqY4ZZutv",
        "colab_type": "code",
        "outputId": "3aa34ad9-3620-4ff9-b36e-d8af8c9ab036",
        "colab": {
          "base_uri": "https://localhost:8080/",
          "height": 289
        }
      },
      "source": [
        "def check_end(data, label):\n",
        "  label_set = data[label]\n",
        "  type_of_label = label_set.unique()\n",
        "\n",
        "  if(len(type_of_label) == 1):\n",
        "    return [True, type_of_label]\n",
        "  else:\n",
        "    return [False, None]\n",
        "\n",
        "\n",
        "\n",
        "def build_tree(data, label, used):\n",
        "  tree = {}\n",
        "  uses = []\n",
        "  \n",
        "  print(\"used\" + str(used))\n",
        "\n",
        "  fields = data.columns\n",
        "  fields = list(fields)\n",
        "  for field in fields: \n",
        "    if field in used: \n",
        "        fields.remove(field)\n",
        "  \n",
        "  if len(fields) == 0:\n",
        "    return tree        \n",
        "\n",
        "  if(len(tree) == 0):\n",
        "    gain = []\n",
        "    for field in fields:\n",
        "      gain.append(cal_gain(data, field, label))  \n",
        "    gain.pop()\n",
        "    \n",
        "    \n",
        "    print(fields)\n",
        "    print(gain)\n",
        "    \n",
        "    \n",
        "    index = gain.index(max(gain))\n",
        "    print(index)\n",
        "    field = fields[index]\n",
        "    tree[field] = {}\n",
        "    uses = used + [field]\n",
        "\n",
        "    fields_set = data[field]\n",
        "    type_of_fields = fields_set.unique()\n",
        "\n",
        "    for type_of_field in type_of_fields:\n",
        "      data_type_field = data[data[field] == type_of_field]\n",
        "      chk_end, type_label = check_end(data_type_field, label)\n",
        "      if(chk_end):\n",
        "        tree[field][type_of_field] = type_label\n",
        "      else:\n",
        "        print(type_of_field)\n",
        "        tree[field][type_of_field] = build_tree(data_type_field, label, uses)\n",
        "         \n",
        "  #field_set = data_field[field]\n",
        "  #field_values = field_set.unique()\n",
        "\n",
        "\n",
        "  return tree\n",
        "\n",
        "tree = build_tree(data_frame, 'Play Golf', used = [])\n",
        "print(tree)"
      ],
      "execution_count": 108,
      "outputs": [
        {
          "output_type": "stream",
          "text": [
            "used[]\n",
            "['Outlook', 'Temp', 'Humidity', 'Windy', 'Play Golf']\n",
            "[0.246749819774439, 0.029222565658954647, 0.15183550136234136, 0.04812703040826927]\n",
            "0\n",
            "Rainy\n",
            "used['Outlook']\n",
            "['Temp', 'Humidity', 'Windy', 'Play Golf']\n",
            "[0.5709505944546686, 0.9709505944546686, 0.01997309402197489]\n",
            "1\n",
            "Sunny\n",
            "used['Outlook']\n",
            "['Temp', 'Humidity', 'Windy', 'Play Golf']\n",
            "[0.01997309402197489, 0.01997309402197489, 0.9709505944546686]\n",
            "2\n",
            "{'Outlook': {'Rainy': {'Humidity': {'High': array(['No'], dtype=object), 'Normal': array(['Yes'], dtype=object)}}, 'Overcast': array(['Yes'], dtype=object), 'Sunny': {'Windy': {'False': array(['Yes'], dtype=object), 'True': array(['No'], dtype=object)}}}}\n"
          ],
          "name": "stdout"
        }
      ]
    },
    {
      "cell_type": "markdown",
      "metadata": {
        "id": "-E3OMMgEbSKr",
        "colab_type": "text"
      },
      "source": [
        "# Prediction"
      ]
    },
    {
      "cell_type": "code",
      "metadata": {
        "id": "CuaumoAuKwhn",
        "colab_type": "code",
        "colab": {}
      },
      "source": [
        "def predict(tree, data):\n",
        "  temp = tree\n",
        "  for i in range(len(data)):\n",
        "    try: \n",
        "      if(temp.values == 'Yes' or temp.values == 'No'):\n",
        "        pass\n",
        "      else:\n",
        "        one = list(temp.keys())\n",
        "        two = data[one[0]]\n",
        "        temp = temp[one[0]][two]\n",
        "    except:\n",
        "      return(temp[0])"
      ],
      "execution_count": 0,
      "outputs": []
    },
    {
      "cell_type": "markdown",
      "metadata": {
        "id": "DKs7im3sbYAT",
        "colab_type": "text"
      },
      "source": [
        "# Execution"
      ]
    },
    {
      "cell_type": "code",
      "metadata": {
        "id": "KecSGsEPVhne",
        "colab_type": "code",
        "outputId": "9a0fa00a-4fbc-4c9f-e334-4f6f11ad496e",
        "colab": {
          "base_uri": "https://localhost:8080/",
          "height": 84
        }
      },
      "source": [
        "data_1 = {\n",
        "    'Outlook' : 'Sunny', \n",
        "    'Temperature' : 'Cool', \n",
        "    'Humidity' : 'High', \n",
        "    'Windy' : 'False'    \n",
        "}\n",
        "\n",
        "data_2 = {\n",
        "    'Outlook' : 'Overcast', \n",
        "    'Temperature' : 'Mild', \n",
        "    'Humidity' : 'Normal', \n",
        "    'Windy' : 'True'    \n",
        "}\n",
        "\n",
        "data_3 = {\n",
        "    'Outlook' : 'Rainy', \n",
        "    'Temperature' : 'Hot', \n",
        "    'Humidity' : 'Normal', \n",
        "    'Windy' : 'True'    \n",
        "}\n",
        "\n",
        "data_4 = {\n",
        "    'Outlook' : 'Overcast', \n",
        "    'Temperature' : 'Cool', \n",
        "    'Humidity' : 'High', \n",
        "    'Windy' : 'True'    \n",
        "}\n",
        "\n",
        "print(\"Play Golf: \" + str(predict(tree, data_1)))\n",
        "print(\"Play Golf: \" + str(predict(tree, data_2)))\n",
        "print(\"Play Golf: \" + str(predict(tree, data_3)))\n",
        "print(\"Play Golf: \" + str(predict(tree, data_4)))\n",
        "\n",
        "\n"
      ],
      "execution_count": 128,
      "outputs": [
        {
          "output_type": "stream",
          "text": [
            "Play Golf: Yes\n",
            "Play Golf: Yes\n",
            "Play Golf: Yes\n",
            "Play Golf: Yes\n"
          ],
          "name": "stdout"
        }
      ]
    },
    {
      "cell_type": "markdown",
      "metadata": {
        "id": "sKL7J-Yzbe4C",
        "colab_type": "text"
      },
      "source": [
        "# Adding New Data"
      ]
    },
    {
      "cell_type": "code",
      "metadata": {
        "id": "ViOwr_GTkwHV",
        "colab_type": "code",
        "colab": {
          "base_uri": "https://localhost:8080/",
          "height": 166
        },
        "outputId": "6a30d1d1-c390-4a8b-fcd0-91bbcce23f1b"
      },
      "source": [
        "new_data = pd.DataFrame({\n",
        "    'Outlook' : ['Sunny', 'Overcast', 'Rainy', 'Overcast'],\n",
        "    'Temp' : ['Cool','Mild', 'Hot', 'Cool'], \n",
        "    'Humidity' : ['High', 'Normal', 'Normal', 'High'], \n",
        "    'Windy' : ['False','True','True','True'],  \n",
        "    'Play Golf': [predict(tree, data_1), predict(tree, data_2), predict(tree, data_3), predict(tree, data_4)]\n",
        "})\n",
        "new_data"
      ],
      "execution_count": 153,
      "outputs": [
        {
          "output_type": "execute_result",
          "data": {
            "text/html": [
              "<div>\n",
              "<style scoped>\n",
              "    .dataframe tbody tr th:only-of-type {\n",
              "        vertical-align: middle;\n",
              "    }\n",
              "\n",
              "    .dataframe tbody tr th {\n",
              "        vertical-align: top;\n",
              "    }\n",
              "\n",
              "    .dataframe thead th {\n",
              "        text-align: right;\n",
              "    }\n",
              "</style>\n",
              "<table border=\"1\" class=\"dataframe\">\n",
              "  <thead>\n",
              "    <tr style=\"text-align: right;\">\n",
              "      <th></th>\n",
              "      <th>Outlook</th>\n",
              "      <th>Temp</th>\n",
              "      <th>Humidity</th>\n",
              "      <th>Windy</th>\n",
              "      <th>Play Golf</th>\n",
              "    </tr>\n",
              "  </thead>\n",
              "  <tbody>\n",
              "    <tr>\n",
              "      <th>0</th>\n",
              "      <td>Sunny</td>\n",
              "      <td>Cool</td>\n",
              "      <td>High</td>\n",
              "      <td>False</td>\n",
              "      <td>Yes</td>\n",
              "    </tr>\n",
              "    <tr>\n",
              "      <th>1</th>\n",
              "      <td>Overcast</td>\n",
              "      <td>Mild</td>\n",
              "      <td>Normal</td>\n",
              "      <td>True</td>\n",
              "      <td>Yes</td>\n",
              "    </tr>\n",
              "    <tr>\n",
              "      <th>2</th>\n",
              "      <td>Rainy</td>\n",
              "      <td>Hot</td>\n",
              "      <td>Normal</td>\n",
              "      <td>True</td>\n",
              "      <td>Yes</td>\n",
              "    </tr>\n",
              "    <tr>\n",
              "      <th>3</th>\n",
              "      <td>Overcast</td>\n",
              "      <td>Cool</td>\n",
              "      <td>High</td>\n",
              "      <td>True</td>\n",
              "      <td>Yes</td>\n",
              "    </tr>\n",
              "  </tbody>\n",
              "</table>\n",
              "</div>"
            ],
            "text/plain": [
              "    Outlook  Temp Humidity  Windy Play Golf\n",
              "0     Sunny  Cool     High  False       Yes\n",
              "1  Overcast  Mild   Normal   True       Yes\n",
              "2     Rainy   Hot   Normal   True       Yes\n",
              "3  Overcast  Cool     High   True       Yes"
            ]
          },
          "metadata": {
            "tags": []
          },
          "execution_count": 153
        }
      ]
    },
    {
      "cell_type": "code",
      "metadata": {
        "id": "bnQvtSdMrXOM",
        "colab_type": "code",
        "outputId": "819bac84-a14e-44f8-f650-c280c598a792",
        "colab": {
          "base_uri": "https://localhost:8080/",
          "height": 580
        }
      },
      "source": [
        "pd.concat([data_frame, new_data], ignore_index=True)"
      ],
      "execution_count": 154,
      "outputs": [
        {
          "output_type": "execute_result",
          "data": {
            "text/html": [
              "<div>\n",
              "<style scoped>\n",
              "    .dataframe tbody tr th:only-of-type {\n",
              "        vertical-align: middle;\n",
              "    }\n",
              "\n",
              "    .dataframe tbody tr th {\n",
              "        vertical-align: top;\n",
              "    }\n",
              "\n",
              "    .dataframe thead th {\n",
              "        text-align: right;\n",
              "    }\n",
              "</style>\n",
              "<table border=\"1\" class=\"dataframe\">\n",
              "  <thead>\n",
              "    <tr style=\"text-align: right;\">\n",
              "      <th></th>\n",
              "      <th>Outlook</th>\n",
              "      <th>Temp</th>\n",
              "      <th>Humidity</th>\n",
              "      <th>Windy</th>\n",
              "      <th>Play Golf</th>\n",
              "    </tr>\n",
              "  </thead>\n",
              "  <tbody>\n",
              "    <tr>\n",
              "      <th>0</th>\n",
              "      <td>Rainy</td>\n",
              "      <td>Hot</td>\n",
              "      <td>High</td>\n",
              "      <td>False</td>\n",
              "      <td>No</td>\n",
              "    </tr>\n",
              "    <tr>\n",
              "      <th>1</th>\n",
              "      <td>Rainy</td>\n",
              "      <td>Hot</td>\n",
              "      <td>High</td>\n",
              "      <td>True</td>\n",
              "      <td>No</td>\n",
              "    </tr>\n",
              "    <tr>\n",
              "      <th>2</th>\n",
              "      <td>Overcast</td>\n",
              "      <td>Hot</td>\n",
              "      <td>High</td>\n",
              "      <td>False</td>\n",
              "      <td>Yes</td>\n",
              "    </tr>\n",
              "    <tr>\n",
              "      <th>3</th>\n",
              "      <td>Sunny</td>\n",
              "      <td>Mild</td>\n",
              "      <td>High</td>\n",
              "      <td>False</td>\n",
              "      <td>Yes</td>\n",
              "    </tr>\n",
              "    <tr>\n",
              "      <th>4</th>\n",
              "      <td>Sunny</td>\n",
              "      <td>Cool</td>\n",
              "      <td>Normal</td>\n",
              "      <td>False</td>\n",
              "      <td>Yes</td>\n",
              "    </tr>\n",
              "    <tr>\n",
              "      <th>5</th>\n",
              "      <td>Sunny</td>\n",
              "      <td>Cool</td>\n",
              "      <td>Normal</td>\n",
              "      <td>True</td>\n",
              "      <td>No</td>\n",
              "    </tr>\n",
              "    <tr>\n",
              "      <th>6</th>\n",
              "      <td>Overcast</td>\n",
              "      <td>Cool</td>\n",
              "      <td>Normal</td>\n",
              "      <td>True</td>\n",
              "      <td>Yes</td>\n",
              "    </tr>\n",
              "    <tr>\n",
              "      <th>7</th>\n",
              "      <td>Rainy</td>\n",
              "      <td>Mild</td>\n",
              "      <td>High</td>\n",
              "      <td>False</td>\n",
              "      <td>No</td>\n",
              "    </tr>\n",
              "    <tr>\n",
              "      <th>8</th>\n",
              "      <td>Rainy</td>\n",
              "      <td>Cool</td>\n",
              "      <td>Normal</td>\n",
              "      <td>False</td>\n",
              "      <td>Yes</td>\n",
              "    </tr>\n",
              "    <tr>\n",
              "      <th>9</th>\n",
              "      <td>Sunny</td>\n",
              "      <td>Mild</td>\n",
              "      <td>Normal</td>\n",
              "      <td>False</td>\n",
              "      <td>Yes</td>\n",
              "    </tr>\n",
              "    <tr>\n",
              "      <th>10</th>\n",
              "      <td>Rainy</td>\n",
              "      <td>Mild</td>\n",
              "      <td>Normal</td>\n",
              "      <td>True</td>\n",
              "      <td>Yes</td>\n",
              "    </tr>\n",
              "    <tr>\n",
              "      <th>11</th>\n",
              "      <td>Overcast</td>\n",
              "      <td>Mild</td>\n",
              "      <td>High</td>\n",
              "      <td>True</td>\n",
              "      <td>Yes</td>\n",
              "    </tr>\n",
              "    <tr>\n",
              "      <th>12</th>\n",
              "      <td>Overcast</td>\n",
              "      <td>Hot</td>\n",
              "      <td>Normal</td>\n",
              "      <td>False</td>\n",
              "      <td>Yes</td>\n",
              "    </tr>\n",
              "    <tr>\n",
              "      <th>13</th>\n",
              "      <td>Sunny</td>\n",
              "      <td>Mild</td>\n",
              "      <td>High</td>\n",
              "      <td>True</td>\n",
              "      <td>No</td>\n",
              "    </tr>\n",
              "    <tr>\n",
              "      <th>14</th>\n",
              "      <td>Sunny</td>\n",
              "      <td>Cool</td>\n",
              "      <td>High</td>\n",
              "      <td>False</td>\n",
              "      <td>Yes</td>\n",
              "    </tr>\n",
              "    <tr>\n",
              "      <th>15</th>\n",
              "      <td>Overcast</td>\n",
              "      <td>Mild</td>\n",
              "      <td>Normal</td>\n",
              "      <td>True</td>\n",
              "      <td>Yes</td>\n",
              "    </tr>\n",
              "    <tr>\n",
              "      <th>16</th>\n",
              "      <td>Rainy</td>\n",
              "      <td>Hot</td>\n",
              "      <td>Normal</td>\n",
              "      <td>True</td>\n",
              "      <td>Yes</td>\n",
              "    </tr>\n",
              "    <tr>\n",
              "      <th>17</th>\n",
              "      <td>Overcast</td>\n",
              "      <td>Cool</td>\n",
              "      <td>High</td>\n",
              "      <td>True</td>\n",
              "      <td>Yes</td>\n",
              "    </tr>\n",
              "  </tbody>\n",
              "</table>\n",
              "</div>"
            ],
            "text/plain": [
              "     Outlook  Temp Humidity  Windy Play Golf\n",
              "0      Rainy   Hot     High  False        No\n",
              "1      Rainy   Hot     High   True        No\n",
              "2   Overcast   Hot     High  False       Yes\n",
              "3      Sunny  Mild     High  False       Yes\n",
              "4      Sunny  Cool   Normal  False       Yes\n",
              "5      Sunny  Cool   Normal   True        No\n",
              "6   Overcast  Cool   Normal   True       Yes\n",
              "7      Rainy  Mild     High  False        No\n",
              "8      Rainy  Cool   Normal  False       Yes\n",
              "9      Sunny  Mild   Normal  False       Yes\n",
              "10     Rainy  Mild   Normal   True       Yes\n",
              "11  Overcast  Mild     High   True       Yes\n",
              "12  Overcast   Hot   Normal  False       Yes\n",
              "13     Sunny  Mild     High   True        No\n",
              "14     Sunny  Cool     High  False       Yes\n",
              "15  Overcast  Mild   Normal   True       Yes\n",
              "16     Rainy   Hot   Normal   True       Yes\n",
              "17  Overcast  Cool     High   True       Yes"
            ]
          },
          "metadata": {
            "tags": []
          },
          "execution_count": 154
        }
      ]
    },
    {
      "cell_type": "markdown",
      "metadata": {
        "id": "skbGChVQbld2",
        "colab_type": "text"
      },
      "source": [
        "# Building New Tree"
      ]
    },
    {
      "cell_type": "code",
      "metadata": {
        "id": "i4Fdo7TLy7tt",
        "colab_type": "code",
        "outputId": "79c75679-e261-4fe1-f56f-8dab275b17e3",
        "colab": {
          "base_uri": "https://localhost:8080/",
          "height": 356
        }
      },
      "source": [
        "data_final = {\n",
        "    'Outlook' : 'Sunny', \n",
        "    'Temperature' : 'Hot', \n",
        "    'Humidity' : 'High', \n",
        "    'Windy' : 'False'    \n",
        "}\n",
        "\n",
        "tree_new = build_tree(data_frame, 'Play Golf', [])\n",
        "\n",
        "print(\"\\\\/\" * 100)\n",
        "print(\"/\\\\\" * 100)\n",
        "print(tree_new)\n",
        "print(\"\\\\/\" * 100)\n",
        "print(\"/\\\\\" * 100)"
      ],
      "execution_count": 160,
      "outputs": [
        {
          "output_type": "stream",
          "text": [
            "used[]\n",
            "['Outlook', 'Temp', 'Humidity', 'Windy', 'Play Golf']\n",
            "[0.246749819774439, 0.029222565658954647, 0.15183550136234136, 0.04812703040826927]\n",
            "0\n",
            "Rainy\n",
            "used['Outlook']\n",
            "['Temp', 'Humidity', 'Windy', 'Play Golf']\n",
            "[0.5709505944546686, 0.9709505944546686, 0.01997309402197489]\n",
            "1\n",
            "Sunny\n",
            "used['Outlook']\n",
            "['Temp', 'Humidity', 'Windy', 'Play Golf']\n",
            "[0.01997309402197489, 0.01997309402197489, 0.9709505944546686]\n",
            "2\n",
            "\\/\\/\\/\\/\\/\\/\\/\\/\\/\\/\\/\\/\\/\\/\\/\\/\\/\\/\\/\\/\\/\\/\\/\\/\\/\\/\\/\\/\\/\\/\\/\\/\\/\\/\\/\\/\\/\\/\\/\\/\\/\\/\\/\\/\\/\\/\\/\\/\\/\\/\\/\\/\\/\\/\\/\\/\\/\\/\\/\\/\\/\\/\\/\\/\\/\\/\\/\\/\\/\\/\\/\\/\\/\\/\\/\\/\\/\\/\\/\\/\\/\\/\\/\\/\\/\\/\\/\\/\\/\\/\\/\\/\\/\\/\\/\\/\\/\\/\\/\\/\n",
            "/\\/\\/\\/\\/\\/\\/\\/\\/\\/\\/\\/\\/\\/\\/\\/\\/\\/\\/\\/\\/\\/\\/\\/\\/\\/\\/\\/\\/\\/\\/\\/\\/\\/\\/\\/\\/\\/\\/\\/\\/\\/\\/\\/\\/\\/\\/\\/\\/\\/\\/\\/\\/\\/\\/\\/\\/\\/\\/\\/\\/\\/\\/\\/\\/\\/\\/\\/\\/\\/\\/\\/\\/\\/\\/\\/\\/\\/\\/\\/\\/\\/\\/\\/\\/\\/\\/\\/\\/\\/\\/\\/\\/\\/\\/\\/\\/\\/\\/\\/\\\n",
            "{'Outlook': {'Rainy': {'Humidity': {'High': array(['No'], dtype=object), 'Normal': array(['Yes'], dtype=object)}}, 'Overcast': array(['Yes'], dtype=object), 'Sunny': {'Windy': {'False': array(['Yes'], dtype=object), 'True': array(['No'], dtype=object)}}}}\n",
            "\\/\\/\\/\\/\\/\\/\\/\\/\\/\\/\\/\\/\\/\\/\\/\\/\\/\\/\\/\\/\\/\\/\\/\\/\\/\\/\\/\\/\\/\\/\\/\\/\\/\\/\\/\\/\\/\\/\\/\\/\\/\\/\\/\\/\\/\\/\\/\\/\\/\\/\\/\\/\\/\\/\\/\\/\\/\\/\\/\\/\\/\\/\\/\\/\\/\\/\\/\\/\\/\\/\\/\\/\\/\\/\\/\\/\\/\\/\\/\\/\\/\\/\\/\\/\\/\\/\\/\\/\\/\\/\\/\\/\\/\\/\\/\\/\\/\\/\\/\\/\n",
            "/\\/\\/\\/\\/\\/\\/\\/\\/\\/\\/\\/\\/\\/\\/\\/\\/\\/\\/\\/\\/\\/\\/\\/\\/\\/\\/\\/\\/\\/\\/\\/\\/\\/\\/\\/\\/\\/\\/\\/\\/\\/\\/\\/\\/\\/\\/\\/\\/\\/\\/\\/\\/\\/\\/\\/\\/\\/\\/\\/\\/\\/\\/\\/\\/\\/\\/\\/\\/\\/\\/\\/\\/\\/\\/\\/\\/\\/\\/\\/\\/\\/\\/\\/\\/\\/\\/\\/\\/\\/\\/\\/\\/\\/\\/\\/\\/\\/\\/\\/\\\n"
          ],
          "name": "stdout"
        }
      ]
    },
    {
      "cell_type": "markdown",
      "metadata": {
        "id": "a4QAHy8obqgC",
        "colab_type": "text"
      },
      "source": [
        "# Final Prediction"
      ]
    },
    {
      "cell_type": "code",
      "metadata": {
        "id": "vR4wruf6dasY",
        "colab_type": "code",
        "colab": {
          "base_uri": "https://localhost:8080/",
          "height": 34
        },
        "outputId": "ebd7e21f-c3e5-4634-9dd3-2422ad398d1e"
      },
      "source": [
        "print(\"Final Data Value Answer : \" + predict(tree_new, data_final))"
      ],
      "execution_count": 158,
      "outputs": [
        {
          "output_type": "stream",
          "text": [
            "Final Data Value Answer : Yes\n"
          ],
          "name": "stdout"
        }
      ]
    }
  ]
}