{
  "nbformat": 4,
  "nbformat_minor": 0,
  "metadata": {
    "colab": {
      "name": "Untitled3.ipynb",
      "provenance": [],
      "collapsed_sections": [],
      "toc_visible": true
    },
    "kernelspec": {
      "name": "python3",
      "display_name": "Python 3"
    }
  },
  "cells": [
    {
      "cell_type": "code",
      "metadata": {
        "id": "csPZFk4gvjYd",
        "colab_type": "code",
        "outputId": "cc9ccb10-285b-4305-97f0-eafe757c6ed6",
        "colab": {
          "base_uri": "https://localhost:8080/",
          "height": 34
        }
      },
      "source": [
        "!pwd\n",
        "!pip install -q Pillow\n",
        "from google.colab.patches import cv2_imshow"
      ],
      "execution_count": 196,
      "outputs": [
        {
          "output_type": "stream",
          "text": [
            "/content\n"
          ],
          "name": "stdout"
        }
      ]
    },
    {
      "cell_type": "code",
      "metadata": {
        "id": "hJoJjpVNvlwo",
        "colab_type": "code",
        "colab": {}
      },
      "source": [
        "import cv2 as cv\n",
        "import numpy as np\n",
        "import matplotlib.pyplot as plt\n",
        "\n",
        "# Load a color image in grayscale\n",
        "img = cv.imread('sign.jpg', 0)\n",
        "(thresh, img) = cv.threshold(img, 127, 255, cv.THRESH_BINARY)"
      ],
      "execution_count": 0,
      "outputs": []
    },
    {
      "cell_type": "code",
      "metadata": {
        "id": "_xhmrE5Cwr6d",
        "colab_type": "code",
        "outputId": "a244d5c4-389e-42d2-c086-f89076f8b513",
        "colab": {
          "base_uri": "https://localhost:8080/",
          "height": 257
        }
      },
      "source": [
        "plt.imshow(img)"
      ],
      "execution_count": 198,
      "outputs": [
        {
          "output_type": "execute_result",
          "data": {
            "text/plain": [
              "<matplotlib.image.AxesImage at 0x7fa9e0c67320>"
            ]
          },
          "metadata": {
            "tags": []
          },
          "execution_count": 198
        },
        {
          "output_type": "display_data",
          "data": {
            "image/png": "[encoded data removed]",
            "text/plain": [
              "<Figure size 432x288 with 1 Axes>"
            ]
          },
          "metadata": {
            "tags": []
          }
        }
      ]
    },
    {
      "cell_type": "code",
      "metadata": {
        "id": "B-7tX9E6w-KJ",
        "colab_type": "code",
        "colab": {}
      },
      "source": [
        "def box(img):\n",
        "  height, width = img.shape\n",
        "  print(width, height)\n",
        "  left = width\n",
        "  right = 0\n",
        "  top = height\n",
        "  bottom = 0\n",
        "  for x in range(width):\n",
        "    for y in range(height):\n",
        "      #print(x, y)\n",
        "      color = img[y, x]\n",
        "      if color < 150:\n",
        "        if x > right:\n",
        "          right = x\n",
        "        if x < left:\n",
        "          left = x\n",
        "        if y > bottom:\n",
        "          bottom = y\n",
        "        if y < top:\n",
        "          top = y\n",
        "  print(top, bottom, left, right)\n",
        "  img = cv.rectangle(img, (left, top), (right, bottom), (0, 0, 0), 5)\n",
        "  plt.imshow(img)\n",
        "  return [img, left, top, right, bottom]"
      ],
      "execution_count": 0,
      "outputs": []
    },
    {
      "cell_type": "code",
      "metadata": {
        "id": "TjO034MCzAPg",
        "colab_type": "code",
        "outputId": "01d06f0c-8067-4d8f-aa9d-bf72d5c829a8",
        "colab": {
          "base_uri": "https://localhost:8080/",
          "height": 274
        }
      },
      "source": [
        "boxes= box(img)\n",
        "#print(boxes)"
      ],
      "execution_count": 200,
      "outputs": [
        {
          "output_type": "stream",
          "text": [
            "1280 720\n",
            "227 491 246 1032\n"
          ],
          "name": "stdout"
        },
        {
          "output_type": "display_data",
          "data": {
            "image/png": "[encoded data removed]",
            "text/plain": [
              "<Figure size 432x288 with 1 Axes>"
            ]
          },
          "metadata": {
            "tags": []
          }
        }
      ]
    },
    {
      "cell_type": "code",
      "metadata": {
        "id": "NAZZEhly2cSN",
        "colab_type": "code",
        "colab": {}
      },
      "source": [
        "def centroid(boxes):\n",
        "  height, width = boxes[0].shape\n",
        "  cx = boxes[1]\n",
        "  cy = boxes[2]\n",
        "  n = 0\n",
        "  img = boxes[0]\n",
        "  for  x  in  range(boxes[1], boxes[3]):\n",
        "    for y  in  range(boxes[2], boxes[4]): \n",
        "      if img[y,x] == 0:\n",
        "        cx  =  cx  +  x \n",
        "        cy  =  cy  +  y \n",
        "        n  =  n  +  1\n",
        "  cx  =  cx  /  n \n",
        "  cy  =  cy  /  n\n",
        "  print('centroid (x,y) = ', cy, cx)\n",
        "  return (cy, cx)"
      ],
      "execution_count": 0,
      "outputs": []
    },
    {
      "cell_type": "code",
      "metadata": {
        "id": "NG3IuUlR3TKe",
        "colab_type": "code",
        "outputId": "d533fd8d-1142-4d38-e016-bc1d94c1c169",
        "colab": {
          "base_uri": "https://localhost:8080/",
          "height": 34
        }
      },
      "source": [
        "centroid_cod = centroid(boxes)"
      ],
      "execution_count": 202,
      "outputs": [
        {
          "output_type": "stream",
          "text": [
            "centroid (x,y) =  354.8900735050659 574.3903052777962\n"
          ],
          "name": "stdout"
        }
      ]
    },
    {
      "cell_type": "code",
      "metadata": {
        "id": "XELJfmrP7Vkf",
        "colab_type": "code",
        "colab": {}
      },
      "source": [
        "def div_four(boxes, cent):\n",
        "  y, x = cent\n",
        "  y = int(y)\n",
        "  x = int(x)\n",
        "  img = boxes[0] \n",
        "  left = boxes[1]\n",
        "  top = boxes[2]\n",
        "  right = boxes[3]\n",
        "  bottom = boxes[4]\n",
        "  # img = cv.rectangle(img, (left, top), (x, y), (0, 0, 0), 2)\n",
        "  # img = cv.rectangle(img, (boxes[1], y), (x, boxes[4]), (0, 0, 0), 2)\n",
        "  # img = cv.rectangle(img,  (x, y), (boxes[3], boxes[4]), (0, 0, 0), 2)\n",
        "  # img = cv.rectangle(img, (x, boxes[2]), (boxes[3], y), (0, 0, 0), 2)\n",
        "  im1 = img[:y, :x]\n",
        "  im2 = img[:y, x:]\n",
        "  im3 = img[y:, :x]\n",
        "  im4 = img[y:, x:]\n",
        "  # cv.imshow(im1)\n",
        "  # cv.imshow(im2)\n",
        "  # cv.imshow(im3)\n",
        "  # cv.imshow(im4)\n",
        "  plt.imshow(img)\n",
        "  return [im1, im2, im3, im4]"
      ],
      "execution_count": 0,
      "outputs": []
    },
    {
      "cell_type": "code",
      "metadata": {
        "id": "b7gox3k-9V6o",
        "colab_type": "code",
        "outputId": "7442dd9d-e8d7-4394-b3d8-c7db7fa84d6f",
        "colab": {
          "base_uri": "https://localhost:8080/",
          "height": 240
        }
      },
      "source": [
        "segments = div_four(boxes, centroid_cod)"
      ],
      "execution_count": 204,
      "outputs": [
        {
          "output_type": "display_data",
          "data": {
            "image/png": "[encoded data removed]",
            "text/plain": [
              "<Figure size 432x288 with 1 Axes>"
            ]
          },
          "metadata": {
            "tags": []
          }
        }
      ]
    },
    {
      "cell_type": "code",
      "metadata": {
        "id": "eAHuITu_9X5W",
        "colab_type": "code",
        "colab": {}
      },
      "source": [
        "def white_transition(img):\n",
        "  height, width = img.shape\n",
        "  prev = img[0, 0]\n",
        "  n = 0\n",
        "  for x in range(1, width):\n",
        "    for y in range(1, height):\n",
        "      curr = img[y, x]\n",
        "      if curr > 200 and prev < 50:\n",
        "        n = n + 1\n",
        "      prev = curr\n",
        "  #print(n)\n",
        "  return (n)\n"
      ],
      "execution_count": 0,
      "outputs": []
    },
    {
      "cell_type": "code",
      "metadata": {
        "id": "asn6NgdeBsDp",
        "colab_type": "code",
        "outputId": "aee2a0e0-6f9b-448d-e80a-1f7945f2eb6c",
        "colab": {
          "base_uri": "https://localhost:8080/",
          "height": 84
        }
      },
      "source": [
        "for segment in segments:\n",
        "  white_transition(segment)"
      ],
      "execution_count": 206,
      "outputs": [
        {
          "output_type": "stream",
          "text": [
            "1043\n",
            "1133\n",
            "1221\n",
            "1431\n"
          ],
          "name": "stdout"
        }
      ]
    },
    {
      "cell_type": "code",
      "metadata": {
        "id": "kcSwi6kDBvvS",
        "colab_type": "code",
        "colab": {
          "base_uri": "https://localhost:8080/",
          "height": 242
        },
        "outputId": "8c5d391c-675e-43ff-c1e1-540e2ed55326"
      },
      "source": [
        "plt.imshow(segments[3])"
      ],
      "execution_count": 207,
      "outputs": [
        {
          "output_type": "execute_result",
          "data": {
            "text/plain": [
              "<matplotlib.image.AxesImage at 0x7fa9e0b0a710>"
            ]
          },
          "metadata": {
            "tags": []
          },
          "execution_count": 207
        },
        {
          "output_type": "display_data",
          "data": {
            "image/png": "[encoded data removed]",
            "text/plain": [
              "<Figure size 432x288 with 1 Axes>"
            ]
          },
          "metadata": {
            "tags": []
          }
        }
      ]
    },
    {
      "cell_type": "code",
      "metadata": {
        "id": "U9cxCyHT1wQZ",
        "colab_type": "code",
        "colab": {}
      },
      "source": [
        "def div_four_dim(boxes, cent):\n",
        "  y, x = cent\n",
        "  y = int(y)\n",
        "  x = int(x)\n",
        "  img = boxes[0] \n",
        "  left = boxes[1]\n",
        "  top = boxes[2]\n",
        "  right = boxes[3]\n",
        "  bottom = boxes[4]\n",
        "  img = cv.rectangle(img, (left, top), (x, y), (0, 0, 0), 2)\n",
        "  img = cv.rectangle(img, (boxes[1], y), (x, boxes[4]), (0, 0, 0), 2)\n",
        "  img = cv.rectangle(img,  (x, y), (boxes[3], boxes[4]), (0, 0, 0), 2)\n",
        "  img = cv.rectangle(img, (x, boxes[2]), (boxes[3], y), (0, 0, 0), 2)\n",
        "  return [[img, left, top, x, y], [img, boxes[1], y, x, boxes[4]], [img, x, y, boxes[3], boxes[4]], [img, x, boxes[2], boxes[3], y]]"
      ],
      "execution_count": 0,
      "outputs": []
    },
    {
      "cell_type": "code",
      "metadata": {
        "id": "phDYQrMv36e3",
        "colab_type": "code",
        "colab": {}
      },
      "source": [
        "img_dim = div_four_dim(boxes, centroid_cod)"
      ],
      "execution_count": 0,
      "outputs": []
    },
    {
      "cell_type": "code",
      "metadata": {
        "id": "aOewPT_t4Aiq",
        "colab_type": "code",
        "colab": {
          "base_uri": "https://localhost:8080/",
          "height": 257
        },
        "outputId": "d0897b55-d93f-4fe8-9210-8c518eff62cb"
      },
      "source": [
        "plt.imshow(img_dim[0][0])"
      ],
      "execution_count": 210,
      "outputs": [
        {
          "output_type": "execute_result",
          "data": {
            "text/plain": [
              "<matplotlib.image.AxesImage at 0x7fa9e0aefe80>"
            ]
          },
          "metadata": {
            "tags": []
          },
          "execution_count": 210
        },
        {
          "output_type": "display_data",
          "data": {
            "image/png": "[encoded data removed]",
            "text/plain": [
              "<Figure size 432x288 with 1 Axes>"
            ]
          },
          "metadata": {
            "tags": []
          }
        }
      ]
    },
    {
      "cell_type": "code",
      "metadata": {
        "id": "1LFEbnFS4EVR",
        "colab_type": "code",
        "colab": {
          "base_uri": "https://localhost:8080/",
          "height": 101
        },
        "outputId": "a6918110-4211-4296-be55-190a7ce39f32"
      },
      "source": [
        "centroid_list_4 = []\n",
        "for seg in img_dim:\n",
        "  centroid_list_4 =centroid_list_4 + [centroid(seg)]\n",
        "print(centroid)"
      ],
      "execution_count": 211,
      "outputs": [
        {
          "output_type": "stream",
          "text": [
            "centroid (x,y) =  280.377998979071 427.0285860132721\n",
            "centroid (x,y) =  420.14495720133976 382.4274283587644\n",
            "centroid (x,y) =  417.96856835306784 785.7171151776104\n",
            "centroid (x,y) =  270.8116397005554 763.7015213716494\n",
            "<function centroid at 0x7fa9e0b84378>\n"
          ],
          "name": "stdout"
        }
      ]
    },
    {
      "cell_type": "code",
      "metadata": {
        "id": "wPHvw2fA4mpk",
        "colab_type": "code",
        "colab": {
          "base_uri": "https://localhost:8080/",
          "height": 257
        },
        "outputId": "bd22ac57-4282-4864-bfc1-f8e936dc5878"
      },
      "source": [
        "seg_4by4 = []\n",
        "for i in range(len(img_dim)):\n",
        "  seg_4by4 = seg_4by4 + [div_four_dim(img_dim[i], centroid_list_4[i])]\n",
        "\n",
        "plt.imshow(img)"
      ],
      "execution_count": 217,
      "outputs": [
        {
          "output_type": "execute_result",
          "data": {
            "text/plain": [
              "<matplotlib.image.AxesImage at 0x7fa9e0b92710>"
            ]
          },
          "metadata": {
            "tags": []
          },
          "execution_count": 217
        },
        {
          "output_type": "display_data",
          "data": {
            "image/png": "[encoded data removed]",
            "text/plain": [
              "<Figure size 432x288 with 1 Axes>"
            ]
          },
          "metadata": {
            "tags": []
          }
        }
      ]
    },
    {
      "cell_type": "code",
      "metadata": {
        "id": "ZvMTXHyD5TSk",
        "colab_type": "code",
        "colab": {
          "base_uri": "https://localhost:8080/",
          "height": 302
        },
        "outputId": "c5a91a3c-89b5-45ca-ce7e-9415e14c6370"
      },
      "source": [
        "centroid_list_16 = []\n",
        "for i in range(len(seg_4by4)):\n",
        "  for seg in seg_4by4[i]:\n",
        "    centroid_list_16 = centroid_list_16 + [centroid(seg)]\n",
        "\n",
        "print(centroid)"
      ],
      "execution_count": 213,
      "outputs": [
        {
          "output_type": "stream",
          "text": [
            "centroid (x,y) =  242.13100436681222 325.14759825327513\n",
            "centroid (x,y) =  312.2586477987421 333.04009433962267\n",
            "centroid (x,y) =  316.4830623306233 511.93360433604335\n",
            "centroid (x,y) =  245.69908814589667 500.0440729483283\n",
            "centroid (x,y) =  389.331223628692 315.44163150492267\n",
            "centroid (x,y) =  455.8937562940584 301.66817724068477\n",
            "centroid (x,y) =  460.74870466321244 472.4438687392055\n",
            "centroid (x,y) =  384.74110671936756 473.85375494071144\n",
            "centroid (x,y) =  386.62156215621565 654.2513751375137\n",
            "centroid (x,y) =  459.51664025356575 673.7686212361331\n",
            "centroid (x,y) =  459.04810126582277 913.7810126582278\n",
            "centroid (x,y) =  381.47179169249847 918.3099814011159\n",
            "centroid (x,y) =  239.89209164818922 655.4708056171471\n",
            "centroid (x,y) =  305.3352501437608 660.0132259919494\n",
            "centroid (x,y) =  302.9009900990099 906.4513201320132\n",
            "centroid (x,y) =  238.34462540716612 900.7648208469055\n",
            "<function centroid at 0x7fa9e0b84378>\n"
          ],
          "name": "stdout"
        }
      ]
    },
    {
      "cell_type": "code",
      "metadata": {
        "id": "dEPmGCCa7WE8",
        "colab_type": "code",
        "colab": {
          "base_uri": "https://localhost:8080/",
          "height": 257
        },
        "outputId": "5724df77-ac77-47e3-8f05-44b82b070094"
      },
      "source": [
        "seg_16by16 = []\n",
        "segments = []\n",
        "\n",
        "for i in range(len(seg_4by4)):\n",
        "  for j in range(len(seg_4by4[i])):\n",
        "    seg_16by16 = seg_16by16 + [div_four_dim(seg_4by4[i][j], centroid_list_16[i*len(seg_4by4)+j])]    \n",
        "    segments = segments + [div_four(seg_4by4[i][j], centroid_list_16[i*len(seg_4by4)+j])]  \n",
        "\n",
        "plt.imshow(img)"
      ],
      "execution_count": 220,
      "outputs": [
        {
          "output_type": "execute_result",
          "data": {
            "text/plain": [
              "<matplotlib.image.AxesImage at 0x7fa9e09f69b0>"
            ]
          },
          "metadata": {
            "tags": []
          },
          "execution_count": 220
        },
        {
          "output_type": "display_data",
          "data": {
            "image/png": "[encoded data removed]",
            "text/plain": [
              "<Figure size 432x288 with 1 Axes>"
            ]
          },
          "metadata": {
            "tags": []
          }
        }
      ]
    },
    {
      "cell_type": "code",
      "metadata": {
        "id": "17Z_3QRp8KKd",
        "colab_type": "code",
        "colab": {
          "base_uri": "https://localhost:8080/",
          "height": 1000
        },
        "outputId": "be17f6e5-92bd-4f9b-ef60-8cb5ed2a3487"
      },
      "source": [
        "i = 0\n",
        "for segment in segments:\n",
        "  for seg in segment:\n",
        "    i = i + 1\n",
        "    print('Segment # ', i, \": \", white_transition(seg))"
      ],
      "execution_count": 227,
      "outputs": [
        {
          "output_type": "stream",
          "text": [
            "Segment #  1 :  155\n",
            "Segment #  2 :  1292\n",
            "Segment #  3 :  721\n",
            "Segment #  4 :  6116\n",
            "Segment #  5 :  331\n",
            "Segment #  6 :  2870\n",
            "Segment #  7 :  630\n",
            "Segment #  8 :  4459\n",
            "Segment #  9 :  1125\n",
            "Segment #  10 :  2218\n",
            "Segment #  11 :  1770\n",
            "Segment #  12 :  3137\n",
            "Segment #  13 :  499\n",
            "Segment #  14 :  1087\n",
            "Segment #  15 :  2252\n",
            "Segment #  16 :  4408\n",
            "Segment #  17 :  410\n",
            "Segment #  18 :  4816\n",
            "Segment #  19 :  354\n",
            "Segment #  20 :  2679\n",
            "Segment #  21 :  433\n",
            "Segment #  22 :  6184\n",
            "Segment #  23 :  167\n",
            "Segment #  24 :  1447\n",
            "Segment #  25 :  2092\n",
            "Segment #  26 :  5164\n",
            "Segment #  27 :  382\n",
            "Segment #  28 :  662\n",
            "Segment #  29 :  1347\n",
            "Segment #  30 :  3513\n",
            "Segment #  31 :  1127\n",
            "Segment #  32 :  2319\n",
            "Segment #  33 :  2733\n",
            "Segment #  34 :  2345\n",
            "Segment #  35 :  1827\n",
            "Segment #  36 :  1431\n",
            "Segment #  37 :  3968\n",
            "Segment #  38 :  3095\n",
            "Segment #  39 :  780\n",
            "Segment #  40 :  710\n",
            "Segment #  41 :  6103\n",
            "Segment #  42 :  961\n",
            "Segment #  43 :  1254\n",
            "Segment #  44 :  236\n",
            "Segment #  45 :  3995\n",
            "Segment #  46 :  689\n",
            "Segment #  47 :  3220\n",
            "Segment #  48 :  461\n",
            "Segment #  49 :  517\n",
            "Segment #  50 :  746\n",
            "Segment #  51 :  4033\n",
            "Segment #  52 :  2996\n",
            "Segment #  53 :  1495\n",
            "Segment #  54 :  1503\n",
            "Segment #  55 :  3108\n",
            "Segment #  56 :  2189\n",
            "Segment #  57 :  2320\n",
            "Segment #  58 :  494\n",
            "Segment #  59 :  4794\n",
            "Segment #  60 :  774\n",
            "Segment #  61 :  820\n",
            "Segment #  62 :  262\n",
            "Segment #  63 :  6228\n",
            "Segment #  64 :  1066\n"
          ],
          "name": "stdout"
        }
      ]
    },
    {
      "cell_type": "code",
      "metadata": {
        "id": "EMBNrqya_dh_",
        "colab_type": "code",
        "colab": {}
      },
      "source": [
        ""
      ],
      "execution_count": 0,
      "outputs": []
    }
  ]
}