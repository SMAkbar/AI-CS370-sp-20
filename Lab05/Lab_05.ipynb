{
  "nbformat": 4,
  "nbformat_minor": 0,
  "metadata": {
    "colab": {
      "name": "Untitled3.ipynb",
      "provenance": [],
      "collapsed_sections": [],
      "toc_visible": true
    },
    "kernelspec": {
      "name": "python3",
      "display_name": "Python 3"
    }
  },
  "cells": [
    {
      "cell_type": "code",
      "metadata": {
        "id": "csPZFk4gvjYd",
        "colab_type": "code",
        "outputId": "a286bd80-a401-4ef5-e65b-0935fd6df79f",
        "colab": {
          "base_uri": "https://localhost:8080/",
          "height": 34
        }
      },
      "source": [
        "!pwd\n",
        "!pip install -q Pillow\n",
        "from google.colab.patches import cv2_imshow"
      ],
      "execution_count": 1,
      "outputs": [
        {
          "output_type": "stream",
          "text": [
            "/content\n"
          ],
          "name": "stdout"
        }
      ]
    },
    {
      "cell_type": "code",
      "metadata": {
        "id": "hJoJjpVNvlwo",
        "colab_type": "code",
        "colab": {}
      },
      "source": [
        "import cv2 as cv\n",
        "import numpy as np\n",
        "import matplotlib.pyplot as plt\n",
        "\n",
        "# Load a color image in grayscale\n",
        "img = cv.imread('sign.jpg', 0)\n",
        "(thresh, img) = cv.threshold(img, 127, 255, cv.THRESH_BINARY)"
      ],
      "execution_count": 0,
      "outputs": []
    },
    {
      "cell_type": "code",
      "metadata": {
        "id": "_xhmrE5Cwr6d",
        "colab_type": "code",
        "outputId": "b761661a-5734-4aa3-87fb-31e6e0e6f7d8",
        "colab": {
          "base_uri": "https://localhost:8080/",
          "height": 257
        }
      },
      "source": [
        "plt.imshow(img)"
      ],
      "execution_count": 3,
      "outputs": [
        {
          "output_type": "execute_result",
          "data": {
            "text/plain": [
              "<matplotlib.image.AxesImage at 0x7f476e6bd9e8>"
            ]
          },
          "metadata": {
            "tags": []
          },
          "execution_count": 3
        },
        {
          "output_type": "display_data",
          "data": {
            "image/png": "[encoded data removed]",
            "text/plain": [
              "<Figure size 432x288 with 1 Axes>"
            ]
          },
          "metadata": {
            "tags": []
          }
        }
      ]
    },
    {
      "cell_type": "code",
      "metadata": {
        "id": "B-7tX9E6w-KJ",
        "colab_type": "code",
        "colab": {}
      },
      "source": [
        "def box(img):\n",
        "  height, width = img.shape\n",
        "  print(width, height)\n",
        "  left = width\n",
        "  right = 0\n",
        "  top = height\n",
        "  bottom = 0\n",
        "  for x in range(width):\n",
        "    for y in range(height):\n",
        "      #print(x, y)\n",
        "      color = img[y, x]\n",
        "      if color < 150:\n",
        "        if x > right:\n",
        "          right = x\n",
        "        if x < left:\n",
        "          left = x\n",
        "        if y > bottom:\n",
        "          bottom = y\n",
        "        if y < top:\n",
        "          top = y\n",
        "  print(top, bottom, left, right)\n",
        "  img = cv.rectangle(img, (left, top), (right, bottom), (0, 0, 0), 5)\n",
        "  plt.imshow(img)\n",
        "  return [img, left, top, right, bottom]"
      ],
      "execution_count": 0,
      "outputs": []
    },
    {
      "cell_type": "code",
      "metadata": {
        "id": "TjO034MCzAPg",
        "colab_type": "code",
        "outputId": "92787b36-638b-4b88-fdfc-89c372bcfc08",
        "colab": {
          "base_uri": "https://localhost:8080/",
          "height": 274
        }
      },
      "source": [
        "boxes= box(img)\n",
        "#print(boxes)"
      ],
      "execution_count": 5,
      "outputs": [
        {
          "output_type": "stream",
          "text": [
            "1280 720\n",
            "227 491 246 1032\n"
          ],
          "name": "stdout"
        },
        {
          "output_type": "display_data",
          "data": {
            "image/png": "[encoded data removed]",
            "text/plain": [
              "<Figure size 432x288 with 1 Axes>"
            ]
          },
          "metadata": {
            "tags": []
          }
        }
      ]
    },
    {
      "cell_type": "code",
      "metadata": {
        "id": "NAZZEhly2cSN",
        "colab_type": "code",
        "colab": {}
      },
      "source": [
        "def centroid(boxes):\n",
        "  height, width = boxes[0].shape\n",
        "  cx = boxes[1]\n",
        "  cy = boxes[2]\n",
        "  n = 0\n",
        "  img = boxes[0]\n",
        "  for  x  in  range(boxes[1], boxes[3]):\n",
        "    for y  in  range(boxes[2], boxes[4]): \n",
        "      if img[y,x] == 0:\n",
        "        cx  =  cx  +  x \n",
        "        cy  =  cy  +  y \n",
        "        n  =  n  +  1\n",
        "  cx  =  cx  /  n \n",
        "  cy  =  cy  /  n\n",
        "  print('centroid (x,y) = ', cy, cx)\n",
        "  return (cy, cx)"
      ],
      "execution_count": 0,
      "outputs": []
    },
    {
      "cell_type": "code",
      "metadata": {
        "id": "NG3IuUlR3TKe",
        "colab_type": "code",
        "outputId": "09d2222a-5795-4630-9e67-0417f6e70293",
        "colab": {
          "base_uri": "https://localhost:8080/",
          "height": 34
        }
      },
      "source": [
        "centroid_cod = centroid(boxes)"
      ],
      "execution_count": 7,
      "outputs": [
        {
          "output_type": "stream",
          "text": [
            "centroid (x,y) =  354.8900735050659 574.3903052777962\n"
          ],
          "name": "stdout"
        }
      ]
    },
    {
      "cell_type": "code",
      "metadata": {
        "id": "XELJfmrP7Vkf",
        "colab_type": "code",
        "colab": {}
      },
      "source": [
        "def div_four(boxes, cent):\n",
        "  y, x = cent\n",
        "  y = int(y)\n",
        "  x = int(x)\n",
        "  img = boxes[0] \n",
        "  left = boxes[1]\n",
        "  top = boxes[2]\n",
        "  right = boxes[3]\n",
        "  bottom = boxes[4]\n",
        "  # img = cv.rectangle(img, (left, top), (x, y), (0, 0, 0), 2)\n",
        "  # img = cv.rectangle(img, (boxes[1], y), (x, boxes[4]), (0, 0, 0), 2)\n",
        "  # img = cv.rectangle(img,  (x, y), (boxes[3], boxes[4]), (0, 0, 0), 2)\n",
        "  # img = cv.rectangle(img, (x, boxes[2]), (boxes[3], y), (0, 0, 0), 2)\n",
        "  im1 = img[:y, :x]\n",
        "  im2 = img[:y, x:]\n",
        "  im3 = img[y:, :x]\n",
        "  im4 = img[y:, x:]\n",
        "  # cv.imshow(im1)\n",
        "  # cv.imshow(im2)\n",
        "  # cv.imshow(im3)\n",
        "  # cv.imshow(im4)\n",
        "  plt.imshow(img)\n",
        "  return [im1, im2, im3, im4]"
      ],
      "execution_count": 0,
      "outputs": []
    },
    {
      "cell_type": "code",
      "metadata": {
        "id": "b7gox3k-9V6o",
        "colab_type": "code",
        "outputId": "4bd3a70b-8020-46ca-9091-e78b10715599",
        "colab": {
          "base_uri": "https://localhost:8080/",
          "height": 240
        }
      },
      "source": [
        "segments = div_four(boxes, centroid_cod)"
      ],
      "execution_count": 9,
      "outputs": [
        {
          "output_type": "display_data",
          "data": {
            "image/png": "[encoded data removed]",
            "text/plain": [
              "<Figure size 432x288 with 1 Axes>"
            ]
          },
          "metadata": {
            "tags": []
          }
        }
      ]
    },
    {
      "cell_type": "code",
      "metadata": {
        "id": "eAHuITu_9X5W",
        "colab_type": "code",
        "colab": {}
      },
      "source": [
        "def white_transition(img):\n",
        "  height, width = img.shape\n",
        "  prev = img[0, 0]\n",
        "  n = 0\n",
        "  for x in range(1, width):\n",
        "    for y in range(1, height):\n",
        "      curr = img[y, x]\n",
        "      if curr > 200 and prev < 50:\n",
        "        n = n + 1\n",
        "      prev = curr\n",
        "  #print(n)\n",
        "  return (n)\n"
      ],
      "execution_count": 0,
      "outputs": []
    },
    {
      "cell_type": "code",
      "metadata": {
        "id": "asn6NgdeBsDp",
        "colab_type": "code",
        "colab": {}
      },
      "source": [
        "for segment in segments:\n",
        "  white_transition(segment)"
      ],
      "execution_count": 0,
      "outputs": []
    },
    {
      "cell_type": "code",
      "metadata": {
        "id": "kcSwi6kDBvvS",
        "colab_type": "code",
        "outputId": "5a2cbfd0-70ec-43d0-8f99-2f5819fbb4d5",
        "colab": {
          "base_uri": "https://localhost:8080/",
          "height": 242
        }
      },
      "source": [
        "plt.imshow(segments[3])"
      ],
      "execution_count": 12,
      "outputs": [
        {
          "output_type": "execute_result",
          "data": {
            "text/plain": [
              "<matplotlib.image.AxesImage at 0x7f476e0ecf28>"
            ]
          },
          "metadata": {
            "tags": []
          },
          "execution_count": 12
        },
        {
          "output_type": "display_data",
          "data": {
            "image/png": "[encoded data removed]",
            "text/plain": [
              "<Figure size 432x288 with 1 Axes>"
            ]
          },
          "metadata": {
            "tags": []
          }
        }
      ]
    },
    {
      "cell_type": "code",
      "metadata": {
        "id": "U9cxCyHT1wQZ",
        "colab_type": "code",
        "colab": {}
      },
      "source": [
        "def div_four_dim(boxes, cent):\n",
        "  y, x = cent\n",
        "  y = int(y)\n",
        "  x = int(x)\n",
        "  img = boxes[0] \n",
        "  left = boxes[1]\n",
        "  top = boxes[2]\n",
        "  right = boxes[3]\n",
        "  bottom = boxes[4]\n",
        "  img = cv.rectangle(img, (left, top), (x, y), (0, 0, 0), 2)\n",
        "  img = cv.rectangle(img, (boxes[1], y), (x, boxes[4]), (0, 0, 0), 2)\n",
        "  img = cv.rectangle(img,  (x, y), (boxes[3], boxes[4]), (0, 0, 0), 2)\n",
        "  img = cv.rectangle(img, (x, boxes[2]), (boxes[3], y), (0, 0, 0), 2)\n",
        "  return [[img, left, top, x, y], [img, boxes[1], y, x, boxes[4]], [img, x, y, boxes[3], boxes[4]], [img, x, boxes[2], boxes[3], y]]"
      ],
      "execution_count": 0,
      "outputs": []
    },
    {
      "cell_type": "code",
      "metadata": {
        "id": "phDYQrMv36e3",
        "colab_type": "code",
        "colab": {}
      },
      "source": [
        "img_dim = div_four_dim(boxes, centroid_cod)"
      ],
      "execution_count": 0,
      "outputs": []
    },
    {
      "cell_type": "code",
      "metadata": {
        "id": "aOewPT_t4Aiq",
        "colab_type": "code",
        "outputId": "8cd3e236-8ef6-4d66-a43c-8f053e091a02",
        "colab": {
          "base_uri": "https://localhost:8080/",
          "height": 257
        }
      },
      "source": [
        "plt.imshow(img_dim[0][0])"
      ],
      "execution_count": 15,
      "outputs": [
        {
          "output_type": "execute_result",
          "data": {
            "text/plain": [
              "<matplotlib.image.AxesImage at 0x7f476e0575c0>"
            ]
          },
          "metadata": {
            "tags": []
          },
          "execution_count": 15
        },
        {
          "output_type": "display_data",
          "data": {
            "image/png": "[encoded data removed]",
            "text/plain": [
              "<Figure size 432x288 with 1 Axes>"
            ]
          },
          "metadata": {
            "tags": []
          }
        }
      ]
    },
    {
      "cell_type": "code",
      "metadata": {
        "id": "1LFEbnFS4EVR",
        "colab_type": "code",
        "outputId": "b248c528-af3e-43aa-f55f-995a248a99d2",
        "colab": {
          "base_uri": "https://localhost:8080/",
          "height": 101
        }
      },
      "source": [
        "centroid_list_4 = []\n",
        "for seg in img_dim:\n",
        "  centroid_list_4 =centroid_list_4 + [centroid(seg)]\n",
        "print(centroid)"
      ],
      "execution_count": 16,
      "outputs": [
        {
          "output_type": "stream",
          "text": [
            "centroid (x,y) =  280.377998979071 427.0285860132721\n",
            "centroid (x,y) =  420.14495720133976 382.4274283587644\n",
            "centroid (x,y) =  417.96856835306784 785.7171151776104\n",
            "centroid (x,y) =  270.8116397005554 763.7015213716494\n",
            "<function centroid at 0x7f476e174048>\n"
          ],
          "name": "stdout"
        }
      ]
    },
    {
      "cell_type": "code",
      "metadata": {
        "id": "wPHvw2fA4mpk",
        "colab_type": "code",
        "outputId": "351427ff-fc07-49a7-df44-63407cfd414c",
        "colab": {
          "base_uri": "https://localhost:8080/",
          "height": 257
        }
      },
      "source": [
        "seg_4by4 = []\n",
        "for i in range(len(img_dim)):\n",
        "  seg_4by4 = seg_4by4 + [div_four_dim(img_dim[i], centroid_list_4[i])]\n",
        "\n",
        "plt.imshow(img)"
      ],
      "execution_count": 17,
      "outputs": [
        {
          "output_type": "execute_result",
          "data": {
            "text/plain": [
              "<matplotlib.image.AxesImage at 0x7f476dfbd978>"
            ]
          },
          "metadata": {
            "tags": []
          },
          "execution_count": 17
        },
        {
          "output_type": "display_data",
          "data": {
            "image/png": "[encoded data removed]",
            "text/plain": [
              "<Figure size 432x288 with 1 Axes>"
            ]
          },
          "metadata": {
            "tags": []
          }
        }
      ]
    },
    {
      "cell_type": "code",
      "metadata": {
        "id": "ZvMTXHyD5TSk",
        "colab_type": "code",
        "outputId": "3ce230b5-0027-4014-ee3c-3f4f80d2144e",
        "colab": {
          "base_uri": "https://localhost:8080/",
          "height": 302
        }
      },
      "source": [
        "centroid_list_16 = []\n",
        "for i in range(len(seg_4by4)):\n",
        "  for seg in seg_4by4[i]:\n",
        "    centroid_list_16 = centroid_list_16 + [centroid(seg)]\n",
        "\n",
        "#print(centroid)"
      ],
      "execution_count": 18,
      "outputs": [
        {
          "output_type": "stream",
          "text": [
            "centroid (x,y) =  242.13100436681222 325.14759825327513\n",
            "centroid (x,y) =  312.2586477987421 333.04009433962267\n",
            "centroid (x,y) =  316.4830623306233 511.93360433604335\n",
            "centroid (x,y) =  245.69908814589667 500.0440729483283\n",
            "centroid (x,y) =  389.331223628692 315.44163150492267\n",
            "centroid (x,y) =  455.8937562940584 301.66817724068477\n",
            "centroid (x,y) =  460.74870466321244 472.4438687392055\n",
            "centroid (x,y) =  384.74110671936756 473.85375494071144\n",
            "centroid (x,y) =  386.62156215621565 654.2513751375137\n",
            "centroid (x,y) =  459.51664025356575 673.7686212361331\n",
            "centroid (x,y) =  459.04810126582277 913.7810126582278\n",
            "centroid (x,y) =  381.47179169249847 918.3099814011159\n",
            "centroid (x,y) =  239.89209164818922 655.4708056171471\n",
            "centroid (x,y) =  305.3352501437608 660.0132259919494\n",
            "centroid (x,y) =  302.9009900990099 906.4513201320132\n",
            "centroid (x,y) =  238.34462540716612 900.7648208469055\n",
            "<function centroid at 0x7f476e174048>\n"
          ],
          "name": "stdout"
        }
      ]
    },
    {
      "cell_type": "code",
      "metadata": {
        "id": "dEPmGCCa7WE8",
        "colab_type": "code",
        "outputId": "fd2efd10-ecb8-436e-a8f2-7c1077b32c15",
        "colab": {
          "base_uri": "https://localhost:8080/",
          "height": 257
        }
      },
      "source": [
        "seg_16by16 = []\n",
        "segments = []\n",
        "\n",
        "for i in range(len(seg_4by4)):\n",
        "  for j in range(len(seg_4by4[i])):\n",
        "    seg_16by16 = seg_16by16 + [div_four_dim(seg_4by4[i][j], centroid_list_16[i*len(seg_4by4)+j])]    \n",
        "    segments = segments + [div_four(seg_4by4[i][j], centroid_list_16[i*len(seg_4by4)+j])]  \n",
        "\n",
        "plt.imshow(img)"
      ],
      "execution_count": 19,
      "outputs": [
        {
          "output_type": "execute_result",
          "data": {
            "text/plain": [
              "<matplotlib.image.AxesImage at 0x7f476df78898>"
            ]
          },
          "metadata": {
            "tags": []
          },
          "execution_count": 19
        },
        {
          "output_type": "display_data",
          "data": {
            "image/png": "[encoded data removed]",
            "text/plain": [
              "<Figure size 432x288 with 1 Axes>"
            ]
          },
          "metadata": {
            "tags": []
          }
        }
      ]
    },
    {
      "cell_type": "code",
      "metadata": {
        "id": "17Z_3QRp8KKd",
        "colab_type": "code",
        "outputId": "eb2e55f1-cabb-4fb2-d11a-38b772dcced1",
        "colab": {
          "base_uri": "https://localhost:8080/",
          "height": 1000
        }
      },
      "source": [
        "i = 0\n",
        "for segment in segments:\n",
        "  for seg in segment:\n",
        "    i = i + 1\n",
        "    print('Segment # ', i, \": \", white_transition(seg))"
      ],
      "execution_count": 20,
      "outputs": [
        {
          "output_type": "stream",
          "text": [
            "Segment #  1 :  155\n",
            "Segment #  2 :  1292\n",
            "Segment #  3 :  721\n",
            "Segment #  4 :  6116\n",
            "Segment #  5 :  331\n",
            "Segment #  6 :  2870\n",
            "Segment #  7 :  630\n",
            "Segment #  8 :  4459\n",
            "Segment #  9 :  1125\n",
            "Segment #  10 :  2218\n",
            "Segment #  11 :  1770\n",
            "Segment #  12 :  3137\n",
            "Segment #  13 :  499\n",
            "Segment #  14 :  1087\n",
            "Segment #  15 :  2252\n",
            "Segment #  16 :  4408\n",
            "Segment #  17 :  410\n",
            "Segment #  18 :  4816\n",
            "Segment #  19 :  354\n",
            "Segment #  20 :  2679\n",
            "Segment #  21 :  433\n",
            "Segment #  22 :  6184\n",
            "Segment #  23 :  167\n",
            "Segment #  24 :  1447\n",
            "Segment #  25 :  2092\n",
            "Segment #  26 :  5164\n",
            "Segment #  27 :  382\n",
            "Segment #  28 :  662\n",
            "Segment #  29 :  1347\n",
            "Segment #  30 :  3513\n",
            "Segment #  31 :  1127\n",
            "Segment #  32 :  2319\n",
            "Segment #  33 :  2733\n",
            "Segment #  34 :  2345\n",
            "Segment #  35 :  1827\n",
            "Segment #  36 :  1431\n",
            "Segment #  37 :  3968\n",
            "Segment #  38 :  3095\n",
            "Segment #  39 :  780\n",
            "Segment #  40 :  710\n",
            "Segment #  41 :  6103\n",
            "Segment #  42 :  961\n",
            "Segment #  43 :  1254\n",
            "Segment #  44 :  236\n",
            "Segment #  45 :  3995\n",
            "Segment #  46 :  689\n",
            "Segment #  47 :  3220\n",
            "Segment #  48 :  461\n",
            "Segment #  49 :  517\n",
            "Segment #  50 :  746\n",
            "Segment #  51 :  4033\n",
            "Segment #  52 :  2996\n",
            "Segment #  53 :  1495\n",
            "Segment #  54 :  1503\n",
            "Segment #  55 :  3108\n",
            "Segment #  56 :  2189\n",
            "Segment #  57 :  2320\n",
            "Segment #  58 :  494\n",
            "Segment #  59 :  4794\n",
            "Segment #  60 :  774\n",
            "Segment #  61 :  820\n",
            "Segment #  62 :  262\n",
            "Segment #  63 :  6228\n",
            "Segment #  64 :  1066\n"
          ],
          "name": "stdout"
        }
      ]
    },
    {
      "cell_type": "code",
      "metadata": {
        "id": "EMBNrqya_dh_",
        "colab_type": "code",
        "colab": {
          "base_uri": "https://localhost:8080/",
          "height": 1000
        },
        "outputId": "8aae9ee4-ff9b-4177-d34e-d439f99aac93"
      },
      "source": [
        "def num_of_black(img):\n",
        "  height, width = img.shape\n",
        "  prev = img[0, 0]\n",
        "  n = 0\n",
        "  for x in range(1, width):\n",
        "    for y in range(1, height):\n",
        "      curr = img[y, x]\n",
        "      if curr < 50:\n",
        "        n = n + 1\n",
        "  #print(n)\n",
        "  return (n)\n",
        "\n",
        "i = 0\n",
        "black_list = []\n",
        "for segment in segments:\n",
        "  for seg in segment:\n",
        "    i = i + 1\n",
        "    black_list = black_list + [num_of_black(seg)]\n",
        "    print('Segment # ', i, \": # black_pixelds\", num_of_black(seg))"
      ],
      "execution_count": 23,
      "outputs": [
        {
          "output_type": "stream",
          "text": [
            "Segment #  1 : # black_pixelds 731\n",
            "Segment #  2 : # black_pixelds 6886\n",
            "Segment #  3 : # black_pixelds 5033\n",
            "Segment #  4 : # black_pixelds 29816\n",
            "Segment #  5 : # black_pixelds 1937\n",
            "Segment #  6 : # black_pixelds 14019\n",
            "Segment #  7 : # black_pixelds 4359\n",
            "Segment #  8 : # black_pixelds 22127\n",
            "Segment #  9 : # black_pixelds 5699\n",
            "Segment #  10 : # black_pixelds 10967\n",
            "Segment #  11 : # black_pixelds 10370\n",
            "Segment #  12 : # black_pixelds 15437\n",
            "Segment #  13 : # black_pixelds 2579\n",
            "Segment #  14 : # black_pixelds 5668\n",
            "Segment #  15 : # black_pixelds 12643\n",
            "Segment #  16 : # black_pixelds 21604\n",
            "Segment #  17 : # black_pixelds 2575\n",
            "Segment #  18 : # black_pixelds 23358\n",
            "Segment #  19 : # black_pixelds 2563\n",
            "Segment #  20 : # black_pixelds 13969\n",
            "Segment #  21 : # black_pixelds 3209\n",
            "Segment #  22 : # black_pixelds 30264\n",
            "Segment #  23 : # black_pixelds 1069\n",
            "Segment #  24 : # black_pixelds 7976\n",
            "Segment #  25 : # black_pixelds 11100\n",
            "Segment #  26 : # black_pixelds 23856\n",
            "Segment #  27 : # black_pixelds 2414\n",
            "Segment #  28 : # black_pixelds 4575\n",
            "Segment #  29 : # black_pixelds 7097\n",
            "Segment #  30 : # black_pixelds 17339\n",
            "Segment #  31 : # black_pixelds 6587\n",
            "Segment #  32 : # black_pixelds 11343\n",
            "Segment #  33 : # black_pixelds 14098\n",
            "Segment #  34 : # black_pixelds 11006\n",
            "Segment #  35 : # black_pixelds 10233\n",
            "Segment #  36 : # black_pixelds 7021\n",
            "Segment #  37 : # black_pixelds 21104\n",
            "Segment #  38 : # black_pixelds 13225\n",
            "Segment #  39 : # black_pixelds 4397\n",
            "Segment #  40 : # black_pixelds 3269\n",
            "Segment #  41 : # black_pixelds 29277\n",
            "Segment #  42 : # black_pixelds 5059\n",
            "Segment #  43 : # black_pixelds 6479\n",
            "Segment #  44 : # black_pixelds 1187\n",
            "Segment #  45 : # black_pixelds 20132\n",
            "Segment #  46 : # black_pixelds 3435\n",
            "Segment #  47 : # black_pixelds 16367\n",
            "Segment #  48 : # black_pixelds 2453\n",
            "Segment #  49 : # black_pixelds 3277\n",
            "Segment #  50 : # black_pixelds 3394\n",
            "Segment #  51 : # black_pixelds 21208\n",
            "Segment #  52 : # black_pixelds 14277\n",
            "Segment #  53 : # black_pixelds 8051\n",
            "Segment #  54 : # black_pixelds 6939\n",
            "Segment #  55 : # black_pixelds 16855\n",
            "Segment #  56 : # black_pixelds 10591\n",
            "Segment #  57 : # black_pixelds 11833\n",
            "Segment #  58 : # black_pixelds 2278\n",
            "Segment #  59 : # black_pixelds 23794\n",
            "Segment #  60 : # black_pixelds 4439\n",
            "Segment #  61 : # black_pixelds 5057\n",
            "Segment #  62 : # black_pixelds 1123\n",
            "Segment #  63 : # black_pixelds 30034\n",
            "Segment #  64 : # black_pixelds 6006\n"
          ],
          "name": "stdout"
        }
      ]
    },
    {
      "cell_type": "code",
      "metadata": {
        "id": "mpLz5svF195s",
        "colab_type": "code",
        "colab": {
          "base_uri": "https://localhost:8080/",
          "height": 1000
        },
        "outputId": "8a16e000-1faf-4f22-8c04-4a0ca4dc876e"
      },
      "source": [
        "s_list = []\n",
        "#black_list\n",
        "#seg_16by16\n",
        "i = 0\n",
        "for segments in seg_16by16:\n",
        "  for seg in segments:\n",
        "    temp = (seg[1] - seg[3]) * (seg[2] - seg[4]) / black_list[i]\n",
        "    i = i + 1\n",
        "    s_list = s_list + [temp]    \n",
        "    print('Segment # ', i, \"\\t\\t normalized size = \", s_list[i-1])\n",
        "\n"
      ],
      "execution_count": 39,
      "outputs": [
        {
          "output_type": "stream",
          "text": [
            "Segment #  1 \t\t normalized size =  1.6210670314637483\n",
            "Segment #  2 \t\t normalized size =  0.43595701423177463\n",
            "Segment #  3 \t\t normalized size =  0.7701172263063779\n",
            "Segment #  4 \t\t normalized size =  0.05131473034612289\n",
            "Segment #  5 \t\t normalized size =  1.4372741352607123\n",
            "Segment #  6 \t\t normalized size =  0.2606462657821528\n",
            "Segment #  7 \t\t normalized size =  0.905712319339298\n",
            "Segment #  8 \t\t normalized size =  0.13594251367108057\n",
            "Segment #  9 \t\t normalized size =  0.5306194069134936\n",
            "Segment #  10 \t\t normalized size =  0.2910549831312118\n",
            "Segment #  11 \t\t normalized size =  0.23085824493731918\n",
            "Segment #  12 \t\t normalized size =  0.14691973829111873\n",
            "Segment #  13 \t\t normalized size =  0.5094998061264056\n",
            "Segment #  14 \t\t normalized size =  0.4507762879322512\n",
            "Segment #  15 \t\t normalized size =  0.204856442300087\n",
            "Segment #  16 \t\t normalized size =  0.061655249027957784\n",
            "Segment #  17 \t\t normalized size =  0.9378640776699029\n",
            "Segment #  18 \t\t normalized size =  0.09157462111482148\n",
            "Segment #  19 \t\t normalized size =  0.8103784627389777\n",
            "Segment #  20 \t\t normalized size =  0.167871715942444\n",
            "Segment #  21 \t\t normalized size =  0.5998753505765035\n",
            "Segment #  22 \t\t normalized size =  0.0654242664551943\n",
            "Segment #  23 \t\t normalized size =  2.7277829747427504\n",
            "Segment #  24 \t\t normalized size =  0.35544132397191575\n",
            "Segment #  25 \t\t normalized size =  0.32432432432432434\n",
            "Segment #  26 \t\t normalized size =  0.11695171026156942\n",
            "Segment #  27 \t\t normalized size =  1.3098591549295775\n",
            "Segment #  28 \t\t normalized size =  0.8918032786885246\n",
            "Segment #  29 \t\t normalized size =  0.38466957869522334\n",
            "Segment #  30 \t\t normalized size =  0.1889382317319338\n",
            "Segment #  31 \t\t normalized size =  0.5519963564596934\n",
            "Segment #  32 \t\t normalized size =  0.26712509918011107\n",
            "Segment #  33 \t\t normalized size =  0.18158604057313094\n",
            "Segment #  34 \t\t normalized size =  0.22533163728875158\n",
            "Segment #  35 \t\t normalized size =  0.39685331769764487\n",
            "Segment #  36 \t\t normalized size =  0.5970659450220767\n",
            "Segment #  37 \t\t normalized size =  0.19702426080363913\n",
            "Segment #  38 \t\t normalized size =  0.23954631379962193\n",
            "Segment #  39 \t\t normalized size =  0.8151012053672959\n",
            "Segment #  40 \t\t normalized size =  1.4389721627408993\n",
            "Segment #  41 \t\t normalized size =  0.18362537145199304\n",
            "Segment #  42 \t\t normalized size =  0.8096461751334256\n",
            "Segment #  43 \t\t normalized size =  0.5877450223799969\n",
            "Segment #  44 \t\t normalized size =  4.2106149957877\n",
            "Segment #  45 \t\t normalized size =  0.17837273991655075\n",
            "Segment #  46 \t\t normalized size =  1.3938864628820962\n",
            "Segment #  47 \t\t normalized size =  0.2507484572615629\n",
            "Segment #  48 \t\t normalized size =  1.254790052996331\n",
            "Segment #  49 \t\t normalized size =  0.2966127555691181\n",
            "Segment #  50 \t\t normalized size =  0.7398350029463759\n",
            "Segment #  51 \t\t normalized size =  0.15786495662014335\n",
            "Segment #  52 \t\t normalized size =  0.09077537297751628\n",
            "Segment #  53 \t\t normalized size =  0.3738666004223078\n",
            "Segment #  54 \t\t normalized size =  0.6072921170197435\n",
            "Segment #  55 \t\t normalized size =  0.29943636902996146\n",
            "Segment #  56 \t\t normalized size =  0.34038334434897555\n",
            "Segment #  57 \t\t normalized size =  0.38671511873573905\n",
            "Segment #  58 \t\t normalized size =  3.264266900790167\n",
            "Segment #  59 \t\t normalized size =  0.275363537026141\n",
            "Segment #  60 \t\t normalized size =  0.90831268303672\n",
            "Segment #  61 \t\t normalized size =  0.29800276843978646\n",
            "Segment #  62 \t\t normalized size =  3.9038290293855744\n",
            "Segment #  63 \t\t normalized size =  0.14064060731171338\n",
            "Segment #  64 \t\t normalized size =  0.24175824175824176\n"
          ],
          "name": "stdout"
        }
      ]
    },
    {
      "cell_type": "code",
      "metadata": {
        "id": "O23lhpq33Cbo",
        "colab_type": "code",
        "colab": {
          "base_uri": "https://localhost:8080/",
          "height": 1000
        },
        "outputId": "eff888f4-33d5-447d-b02f-86ffebf0dc82"
      },
      "source": [
        "import math\n",
        "c_angle_list = []\n",
        "#black_list\n",
        "#seg_16by16\n",
        "i = 0\n",
        "for segments in seg_16by16:\n",
        "  for seg in segments:\n",
        "    temp_cent = centroid(seg)\n",
        "    temp = math.atan((seg[3] - temp_cent[0])/(temp_cent[1] - seg[4]))\n",
        "    i = i + 1\n",
        "    c_angle_list = c_angle_list + [temp]    \n",
        "    print('Segment # ', i, \"\\t\\t inclination of centroid = \", c_angle_list[i-1])"
      ],
      "execution_count": 42,
      "outputs": [
        {
          "output_type": "stream",
          "text": [
            "centroid (x,y) =  232.01573033707865 283.05842696629213\n",
            "Segment #  1 \t\t inclination of centroid =  1.1549805979911059\n",
            "centroid (x,y) =  257.94417475728153 276.16747572815535\n",
            "Segment #  2 \t\t inclination of centroid =  -1.5137042053864855\n",
            "centroid (x,y) =  256.8734793187348 372.07542579075425\n",
            "Segment #  3 \t\t inclination of centroid =  1.0747210248837376\n",
            "centroid (x,y) =  231.67037037037036 375.18518518518516\n",
            "Segment #  4 \t\t inclination of centroid =  0.9723568409383664\n",
            "centroid (x,y) =  293.2610837438424 280.820197044335\n",
            "Segment #  5 \t\t inclination of centroid =  -0.9055063087567318\n",
            "centroid (x,y) =  330.4620253164557 280.92194092827003\n",
            "Segment #  6 \t\t inclination of centroid =  -0.034715687069953385\n",
            "centroid (x,y) =  328.9459930313589 370.14459930313586\n",
            "Segment #  7 \t\t inclination of centroid =  1.4076103808532552\n",
            "centroid (x,y) =  294.56370656370655 385.0057915057915\n",
            "Segment #  8 \t\t inclination of centroid =  1.0669922805601242\n",
            "centroid (x,y) =  293.4347826086956 462.67519181585675\n",
            "Segment #  9 \t\t inclination of centroid =  0.9776194539267614\n",
            "centroid (x,y) =  334.67304015296367 475.15678776290633\n",
            "Segment #  10 \t\t inclination of centroid =  0.9687708886050365\n",
            "centroid (x,y) =  331.1579831932773 536.0050420168067\n",
            "Segment #  11 \t\t inclination of centroid =  0.9276286092876367\n",
            "centroid (x,y) =  299.44172932330827 547.7988721804511\n",
            "Segment #  12 \t\t inclination of centroid =  0.8696434296945973\n",
            "centroid (x,y) =  232.68316831683168 462.9306930693069\n",
            "Segment #  13 \t\t inclination of centroid =  0.8868240774350203\n",
            "centroid (x,y) =  262.1104536489152 465.0019723865878\n",
            "Segment #  14 \t\t inclination of centroid =  0.9098140053766599\n",
            "centroid (x,y) =  257.4475 530.2425\n",
            "Segment #  15 \t\t inclination of centroid =  0.9018599063495596\n",
            "centroid (x,y) =  234.01897533206832 540.3946869070209\n",
            "Segment #  16 \t\t inclination of centroid =  0.8554565041217971\n",
            "centroid (x,y) =  370.67826086956524 278.76521739130436\n",
            "Segment #  17 \t\t inclination of centroid =  0.4677096832042892\n",
            "centroid (x,y) =  403.1186440677966 276.79661016949154\n",
            "Segment #  18 \t\t inclination of centroid =  0.5516219637540837\n",
            "centroid (x,y) =  404.2008797653959 352.7756598240469\n",
            "Segment #  19 \t\t inclination of centroid =  0.3189735478728215\n",
            "centroid (x,y) =  368.0239520958084 343.5\n",
            "Segment #  20 \t\t inclination of centroid =  -0.29801796895799215\n",
            "centroid (x,y) =  436.55690072639226 272.17433414043586\n",
            "Segment #  21 \t\t inclination of centroid =  0.6380094760023352\n",
            "centroid (x,y) =  474.90277777777777 269.56944444444446\n",
            "Segment #  22 \t\t inclination of centroid =  0.6657503601948722\n",
            "centroid (x,y) =  474.5304990757856 336.66913123844733\n",
            "Segment #  23 \t\t inclination of centroid =  0.5400953523154373\n",
            "centroid (x,y) =  434.43029490616624 334.7265415549598\n",
            "Segment #  24 \t\t inclination of centroid =  0.41108832170960835\n",
            "centroid (x,y) =  436.37795275590554 423.2782152230971\n",
            "Segment #  25 \t\t inclination of centroid =  -0.7701977958991391\n",
            "centroid (x,y) =  478.01325757575756 425.0814393939394\n",
            "Segment #  26 \t\t inclination of centroid =  0.09097074385990281\n",
            "centroid (x,y) =  477.97108843537416 521.1139455782313\n",
            "Segment #  27 \t\t inclination of centroid =  1.266916473995628\n",
            "centroid (x,y) =  436.1151079136691 519.2398081534773\n",
            "Segment #  28 \t\t inclination of centroid =  1.1650086018496335\n",
            "centroid (x,y) =  368.16058394160586 432.0310218978102\n",
            "Segment #  29 \t\t inclination of centroid =  1.1411946826604649\n",
            "centroid (x,y) =  398.0716510903427 414.8380062305296\n",
            "Segment #  30 \t\t inclination of centroid =  -1.5020126091818267\n",
            "centroid (x,y) =  398.8449438202247 523.4932584269662\n",
            "Segment #  31 \t\t inclination of centroid =  1.0371196893987735\n",
            "centroid (x,y) =  367.3565505804312 513.0232172470978\n",
            "Segment #  32 \t\t inclination of centroid =  1.0126458324722034\n",
            "centroid (x,y) =  368.36 617.04\n",
            "Segment #  33 \t\t inclination of centroid =  0.8906821090726837\n",
            "centroid (x,y) =  399.64744429882046 610.6749672346002\n",
            "Segment #  34 \t\t inclination of centroid =  0.9200118470393351\n",
            "centroid (x,y) =  402.82319660537485 718.8062234794908\n",
            "Segment #  35 \t\t inclination of centroid =  0.9023655666675343\n",
            "centroid (x,y) =  366.37083333333334 716.4958333333333\n",
            "Segment #  36 \t\t inclination of centroid =  0.9025081988140596\n",
            "centroid (x,y) =  433.9855072463768 619.864734299517\n",
            "Segment #  37 \t\t inclination of centroid =  0.9783989341705276\n",
            "centroid (x,y) =  477.546875 621.7465277777778\n",
            "Segment #  38 \t\t inclination of centroid =  0.9812211238348134\n",
            "centroid (x,y) =  477.5117004680187 727.2542901716068\n",
            "Segment #  39 \t\t inclination of centroid =  0.915663166612391\n",
            "centroid (x,y) =  433.72847682119203 725.2935982339956\n",
            "Segment #  40 \t\t inclination of centroid =  0.9221410013618777\n",
            "centroid (x,y) =  433.4670658682635 845.2015968063872\n",
            "Segment #  41 \t\t inclination of centroid =  0.8927893614268083\n",
            "centroid (x,y) =  477.4771151178918 847.24826629681\n",
            "Segment #  42 \t\t inclination of centroid =  0.8851887411556217\n",
            "centroid (x,y) =  477.2369863013699 975.358904109589\n",
            "Segment #  43 \t\t inclination of centroid =  0.8530482373390913\n",
            "centroid (x,y) =  434.2282608695652 977.6811594202899\n",
            "Segment #  44 \t\t inclination of centroid =  0.8561209614644515\n",
            "centroid (x,y) =  364.43949044585986 849.3545647558386\n",
            "Segment #  45 \t\t inclination of centroid =  0.868584443459895\n",
            "centroid (x,y) =  395.0822281167109 852.4668435013263\n",
            "Segment #  46 \t\t inclination of centroid =  0.8763944291261525\n",
            "centroid (x,y) =  393.92346089850247 973.2362728785358\n",
            "Segment #  47 \t\t inclination of centroid =  0.8538161915007639\n",
            "centroid (x,y) =  367.27806563039724 985.4248704663213\n",
            "Segment #  48 \t\t inclination of centroid =  0.8328723859659631\n",
            "centroid (x,y) =  231.45368620037806 613.4631379962193\n",
            "Segment #  49 \t\t inclination of centroid =  0.8468277869272828\n",
            "centroid (x,y) =  252.468 616.948\n",
            "Segment #  50 \t\t inclination of centroid =  0.859426058804514\n",
            "centroid (x,y) =  250.9828431372549 706.5024509803922\n",
            "Segment #  51 \t\t inclination of centroid =  0.8648438229011676\n",
            "centroid (x,y) =  230.93939393939394 709.0124777183601\n",
            "Segment #  52 \t\t inclination of centroid =  0.8472389737928993\n",
            "centroid (x,y) =  285.24043715846994 606.7030965391621\n",
            "Segment #  53 \t\t inclination of centroid =  0.8929789806075387\n",
            "centroid (x,y) =  329.8583916083916 623.6993006993007\n",
            "Segment #  54 \t\t inclination of centroid =  0.8858230923933665\n",
            "centroid (x,y) =  323.2699115044248 696.9690265486726\n",
            "Segment #  55 \t\t inclination of centroid =  0.908398937303257\n",
            "centroid (x,y) =  285.37388724035605 706.3026706231454\n",
            "Segment #  56 \t\t inclination of centroid =  0.8720177669714225\n",
            "centroid (x,y) =  282.0891472868217 831.5445736434109\n",
            "Segment #  57 \t\t inclination of centroid =  0.8670281785604748\n",
            "centroid (x,y) =  322.06944444444446 829.3697916666666\n",
            "Segment #  58 \t\t inclination of centroid =  0.887525076951587\n",
            "centroid (x,y) =  323.2263242375602 974.7126805778491\n",
            "Segment #  59 \t\t inclination of centroid =  0.8515384052779937\n",
            "centroid (x,y) =  282.66156787762907 973.5869980879542\n",
            "Segment #  60 \t\t inclination of centroid =  0.840062519141644\n",
            "centroid (x,y) =  230.60739687055477 831.5135135135135\n",
            "Segment #  61 \t\t inclination of centroid =  0.8454089425944774\n",
            "centroid (x,y) =  250.07630522088354 828.6305220883534\n",
            "Segment #  62 \t\t inclination of centroid =  0.8607941356082476\n",
            "centroid (x,y) =  250.53604436229205 970.5674676524953\n",
            "Segment #  63 \t\t inclination of centroid =  0.8399289149986388\n",
            "centroid (x,y) =  230.67246376811593 967.3565217391305\n",
            "Segment #  64 \t\t inclination of centroid =  0.8323824167251991\n"
          ],
          "name": "stdout"
        }
      ]
    },
    {
      "cell_type": "code",
      "metadata": {
        "id": "rLevKy884aFA",
        "colab_type": "code",
        "colab": {
          "base_uri": "https://localhost:8080/",
          "height": 1000
        },
        "outputId": "8b3a1a3c-ab00-4103-f1bd-764e4260e65c"
      },
      "source": [
        "def normalized_inclination(img):\n",
        "  height, width = img[0].shape\n",
        "  #prev = img[0, 0]\n",
        "  n = 0\n",
        "  temp_ret = 0\n",
        "  for x in range(1, width):\n",
        "    for y in range(1, height):\n",
        "      curr = img[0][y, x]\n",
        "      if curr < 50:\n",
        "        #temp_cent = centroid(seg)\n",
        "        try: \n",
        "          temp = math.atan((img[4] - x)/( y - img[3]))\n",
        "          temp = math.fabs(temp)\n",
        "          temp_ret += temp\n",
        "          n += 1\n",
        "        except:\n",
        "          pass\n",
        "  #print(n)\n",
        "  #print('Segment # ', i, \"\\t\\t normalized_inclination = \", n_inc[i-1])\n",
        "  n = temp_ret / n\n",
        "  return (n)\n",
        "\n",
        "n_inc = []\n",
        "i = 0\n",
        "for segments in seg_16by16:\n",
        "  for seg in segments:\n",
        "    #temp = (seg[1] - seg[3]) * (seg[2] - seg[4]) / black_list[i]\n",
        "    i = i + 1\n",
        "    n_inc = n_inc + [normalized_inclination(seg)]    \n",
        "    print('Segment # ', i, \"\\t\\t normalized_inclination = \", n_inc[i-1])"
      ],
      "execution_count": 61,
      "outputs": [
        {
          "output_type": "stream",
          "text": [
            "Segment #  1 \t\t normalized_inclination =  1.2000036166481158\n",
            "Segment #  2 \t\t normalized_inclination =  1.1624954374884584\n",
            "Segment #  3 \t\t normalized_inclination =  1.147474042592186\n",
            "Segment #  4 \t\t normalized_inclination =  1.188209223792254\n",
            "Segment #  5 \t\t normalized_inclination =  1.1360758183474315\n",
            "Segment #  6 \t\t normalized_inclination =  1.114152599836419\n",
            "Segment #  7 \t\t normalized_inclination =  1.0959964207275539\n",
            "Segment #  8 \t\t normalized_inclination =  1.1187271204499916\n",
            "Segment #  9 \t\t normalized_inclination =  0.960130353739323\n",
            "Segment #  10 \t\t normalized_inclination =  0.9345032457532915\n",
            "Segment #  11 \t\t normalized_inclination =  0.7869340940384645\n",
            "Segment #  12 \t\t normalized_inclination =  0.8187599889233881\n",
            "Segment #  13 \t\t normalized_inclination =  1.0705144994812448\n",
            "Segment #  14 \t\t normalized_inclination =  1.0275598122238827\n",
            "Segment #  15 \t\t normalized_inclination =  0.8594991526901474\n",
            "Segment #  16 \t\t normalized_inclination =  0.9086164076375923\n",
            "Segment #  17 \t\t normalized_inclination =  1.0963868720730572\n",
            "Segment #  18 \t\t normalized_inclination =  1.08637260477678\n",
            "Segment #  19 \t\t normalized_inclination =  1.1097277149257558\n",
            "Segment #  20 \t\t normalized_inclination =  1.1129474233396635\n",
            "Segment #  21 \t\t normalized_inclination =  1.065006172447512\n",
            "Segment #  22 \t\t normalized_inclination =  1.051869991343158\n",
            "Segment #  23 \t\t normalized_inclination =  1.0836523494327974\n",
            "Segment #  24 \t\t normalized_inclination =  1.0996776592193176\n",
            "Segment #  25 \t\t normalized_inclination =  0.9851638384066836\n",
            "Segment #  26 \t\t normalized_inclination =  0.9732107260609848\n",
            "Segment #  27 \t\t normalized_inclination =  0.717773321042172\n",
            "Segment #  28 \t\t normalized_inclination =  0.7296326520898272\n",
            "Segment #  29 \t\t normalized_inclination =  1.0094896136094653\n",
            "Segment #  30 \t\t normalized_inclination =  1.0000835536530526\n",
            "Segment #  31 \t\t normalized_inclination =  0.7479691661185959\n",
            "Segment #  32 \t\t normalized_inclination =  0.7663455026869384\n",
            "Segment #  33 \t\t normalized_inclination =  0.6371972432346367\n",
            "Segment #  34 \t\t normalized_inclination =  0.6185648231007326\n",
            "Segment #  35 \t\t normalized_inclination =  0.4803906380465528\n",
            "Segment #  36 \t\t normalized_inclination =  0.4998829694352023\n",
            "Segment #  37 \t\t normalized_inclination =  0.5722611772451136\n",
            "Segment #  38 \t\t normalized_inclination =  0.5590661258347128\n",
            "Segment #  39 \t\t normalized_inclination =  0.4449360692022794\n",
            "Segment #  40 \t\t normalized_inclination =  0.45829356479475825\n",
            "Segment #  41 \t\t normalized_inclination =  0.37173005940746684\n",
            "Segment #  42 \t\t normalized_inclination =  0.3589995221513896\n",
            "Segment #  43 \t\t normalized_inclination =  0.3034117981113133\n",
            "Segment #  44 \t\t normalized_inclination =  0.31525017298949143\n",
            "Segment #  45 \t\t normalized_inclination =  0.41160838616728024\n",
            "Segment #  46 \t\t normalized_inclination =  0.38991800238917945\n",
            "Segment #  47 \t\t normalized_inclination =  0.3347312438050668\n",
            "Segment #  48 \t\t normalized_inclination =  0.35487892127122395\n",
            "Segment #  49 \t\t normalized_inclination =  0.7935650300703756\n",
            "Segment #  50 \t\t normalized_inclination =  0.7492870832656221\n",
            "Segment #  51 \t\t normalized_inclination =  0.6288674271066176\n",
            "Segment #  52 \t\t normalized_inclination =  0.6690127864288062\n",
            "Segment #  53 \t\t normalized_inclination =  0.7001994126453726\n",
            "Segment #  54 \t\t normalized_inclination =  0.6536104910574683\n",
            "Segment #  55 \t\t normalized_inclination =  0.5433114432916282\n",
            "Segment #  56 \t\t normalized_inclination =  0.5889548276191087\n",
            "Segment #  57 \t\t normalized_inclination =  0.48265491556168055\n",
            "Segment #  58 \t\t normalized_inclination =  0.43811259151398163\n",
            "Segment #  59 \t\t normalized_inclination =  0.37273973473897765\n",
            "Segment #  60 \t\t normalized_inclination =  0.4131765554032483\n",
            "Segment #  61 \t\t normalized_inclination =  0.5560203861962096\n",
            "Segment #  62 \t\t normalized_inclination =  0.5193519476257137\n",
            "Segment #  63 \t\t normalized_inclination =  0.44256688457156523\n",
            "Segment #  64 \t\t normalized_inclination =  0.4751731617092574\n"
          ],
          "name": "stdout"
        }
      ]
    },
    {
      "cell_type": "code",
      "metadata": {
        "id": "MX3sur1j5JfG",
        "colab_type": "code",
        "colab": {}
      },
      "source": [
        " np.savetxt('black_list.txt', black_list)  \n",
        " np.savetxt('s_list.txt', s_list)  \n",
        " np.savetxt('c_angle_list.txt', c_angle_list) \n",
        " np.savetxt('n_inc.txt', n_inc) "
      ],
      "execution_count": 0,
      "outputs": []
    },
    {
      "cell_type": "code",
      "metadata": {
        "id": "f96tVsZmE3Pr",
        "colab_type": "code",
        "colab": {}
      },
      "source": [
        ""
      ],
      "execution_count": 0,
      "outputs": []
    }
  ]
}