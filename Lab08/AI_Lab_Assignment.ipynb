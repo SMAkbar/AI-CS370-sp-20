{
  "nbformat": 4,
  "nbformat_minor": 0,
  "metadata": {
    "colab": {
      "name": "AI Lab-Assignment.ipynb",
      "provenance": [],
      "collapsed_sections": []
    },
    "kernelspec": {
      "name": "python3",
      "display_name": "Python 3"
    }
  },
  "cells": [
    {
      "cell_type": "markdown",
      "metadata": {
        "id": "5_cElAHI8cqx",
        "colab_type": "text"
      },
      "source": [
        "# Artificial Intellengence - Lab Assignment\n",
        "<i> By: Syed Muhammad Akbar </i>"
      ]
    },
    {
      "cell_type": "markdown",
      "metadata": {
        "id": "1wjX59HF8olv",
        "colab_type": "text"
      },
      "source": [
        "## All parameters, classes and their labels"
      ]
    },
    {
      "cell_type": "code",
      "metadata": {
        "id": "QusTdj5FVJy8",
        "colab_type": "code",
        "colab": {}
      },
      "source": [
        "departments = {'sales-j':0, 'sales-s':0, 'systems-j':0, 'systems-s':0, 'marketing-j':0, 'marketing-s':0, 'secretary-j':0, 'secretary-s':0}\n",
        "statuses = {'junior':0, 'senior':0}\n",
        "ages = {'21 ... 25-j':0, '26 ... 30-j':0, '31 ... 35-j':0, '36 ... 40-j':0, '41 ... 45-j':0, '46 ... 50-j':0,'21 ... 25-s':0,  '26 ... 30-s':0, '31 ... 35-s':0, '36 ... 40-s':0, '41 ... 45-s':0, '46 ... 50-s':0}\n",
        "salaries = {'26k ... 30k-j':0, '31k ... 35k-j':0, '36k ... 40k-j':0, '41k ... 45k-j':0, '46k ... 50k-j':0, '66k ... 70k-j':0, '26k ... 30k-s':0, '31k ... 35k-s':0, '36k ... 40k-s':0, '41k ... 45k-s':0, '46k ... 50k-s':0, '66k ... 70k-s':0}\n"
      ],
      "execution_count": 0,
      "outputs": []
    },
    {
      "cell_type": "markdown",
      "metadata": {
        "id": "mjAul-mK80lK",
        "colab_type": "text"
      },
      "source": [
        "### Entering all the data manually"
      ]
    },
    {
      "cell_type": "code",
      "metadata": {
        "id": "TjlBk4IpW3iO",
        "colab_type": "code",
        "colab": {}
      },
      "source": [
        "departments['sales-j'] = 2\n",
        "departments['sales-s'] = 1\n",
        "departments['systems-j'] = 2\n",
        "departments['systems-s'] = 2\n",
        "departments['marketing-j'] = 1\n",
        "departments['marketing-s'] = 1\n",
        "departments['secretary-j'] = 1\n",
        "departments['secretary-s'] = 1"
      ],
      "execution_count": 0,
      "outputs": []
    },
    {
      "cell_type": "code",
      "metadata": {
        "id": "uJXjmdQ_XTOw",
        "colab_type": "code",
        "colab": {}
      },
      "source": [
        "ages['21 ... 25-j'] = 1\n",
        "ages['21 ... 25-s'] = 0\n",
        "ages['26 ... 30-j'] = 3\n",
        "ages['26 ... 30-s'] = 0\n",
        "ages['31 ... 35-j'] = 2\n",
        "ages['31 ... 35-s'] = 2\n",
        "ages['36 ... 40-j'] = 0\n",
        "ages['36 ... 40-s'] = 1\n",
        "ages['41 ... 45-j'] = 0\n",
        "ages['41 ... 45-s'] = 1\n",
        "ages['46 ... 50-j'] = 0\n",
        "ages['46 ... 50-s'] = 1"
      ],
      "execution_count": 0,
      "outputs": []
    },
    {
      "cell_type": "code",
      "metadata": {
        "id": "VUpmkEj4XUBP",
        "colab_type": "code",
        "colab": {}
      },
      "source": [
        "salaries['26k ... 30k-j'] = 2\n",
        "salaries['26k ... 30k-s'] = 0\n",
        "salaries['31k ... 35k-j'] = 1\n",
        "salaries['31k ... 35k-s'] = 0\n",
        "salaries['36k ... 40k-j'] = 0\n",
        "salaries['36k ... 40k-s'] = 1\n",
        "salaries['41k ... 45k-j'] = 1\n",
        "salaries['41k ... 45k-s'] = 0\n",
        "salaries['46k ... 50k-j'] = 2\n",
        "salaries['46k ... 50k-s'] = 2\n",
        "salaries['66k ... 70k-j'] = 0\n",
        "salaries['66k ... 70k-s'] = 2\n",
        "\n"
      ],
      "execution_count": 0,
      "outputs": []
    },
    {
      "cell_type": "code",
      "metadata": {
        "id": "frToxYQvBCGB",
        "colab_type": "code",
        "colab": {}
      },
      "source": [
        "statuses['junior'] = 6\n",
        "statuses['senior'] = 5"
      ],
      "execution_count": 0,
      "outputs": []
    },
    {
      "cell_type": "markdown",
      "metadata": {
        "id": "dZOJapS884SP",
        "colab_type": "text"
      },
      "source": [
        "### Provided Data"
      ]
    },
    {
      "cell_type": "code",
      "metadata": {
        "id": "gJ6S84YQXs_Z",
        "colab_type": "code",
        "colab": {}
      },
      "source": [
        "data = [['marketing', '31 ... 35', '46k ... 50k'], ['sales', '31 ... 35', '66k ... 70k']]"
      ],
      "execution_count": 0,
      "outputs": []
    },
    {
      "cell_type": "markdown",
      "metadata": {
        "id": "zyLXCiNR88th",
        "colab_type": "text"
      },
      "source": [
        "### Counting the total entries in the table"
      ]
    },
    {
      "cell_type": "code",
      "metadata": {
        "id": "5xiS6FL2gXQU",
        "colab_type": "code",
        "colab": {
          "base_uri": "https://localhost:8080/",
          "height": 34
        },
        "outputId": "7c4b8655-315f-4aef-abd2-5b87a785575c"
      },
      "source": [
        "n = 0\n",
        "for department in departments:\n",
        "   n += departments[department]\n",
        "print('total tuples = ', n)"
      ],
      "execution_count": 91,
      "outputs": [
        {
          "output_type": "stream",
          "text": [
            "total tuples =  11\n"
          ],
          "name": "stdout"
        }
      ]
    },
    {
      "cell_type": "markdown",
      "metadata": {
        "id": "U65i5IcR9DzX",
        "colab_type": "text"
      },
      "source": [
        "### Probability Prediction"
      ]
    },
    {
      "cell_type": "code",
      "metadata": {
        "id": "XRXTrcAshV1L",
        "colab_type": "code",
        "colab": {}
      },
      "source": [
        "def predict_new(tup, k = 1):\n",
        "  print(tup)\n",
        "\n",
        "  j = statuses['junior']\n",
        "  s = statuses['senior']\n",
        "\n",
        "  prob_department_total_j = (departments[tup[0] + '-j'] + k) / (j + len(departments) / 2 * k) \n",
        "  print(\"prob_department_total_j :\", prob_department_total_j)\n",
        "  prob_department_total_s = (departments[tup[0] + '-s'] + k) / (s + len(departments) / 2 * k) \n",
        "  print(\"prob_department_total_s :\", prob_department_total_s)\n",
        "\n",
        "  prob_ages_total_j = (ages[tup[1] + '-j'] + k) / (j + len(ages) / 2 * k) \n",
        "  print(\"prob_ages_total_j :\", prob_ages_total_j)\n",
        "  prob_ages_total_s = (ages[tup[1] + '-s'] + k) / (s + len(ages) / 2 * k) \n",
        "  print(\"prob_ages_total_s :\", prob_ages_total_s)\n",
        "\n",
        "  prob_salaries_total_j = (salaries[tup[2] + '-j'] + k) / (j + len(salaries) / 2 * k) \n",
        "  print(\"prob_salaries_total_j :\", prob_salaries_total_j)\n",
        "  prob_salaries_total_s = (salaries[tup[2] + '-s'] + k) / (s + len(salaries) / 2 * k) \n",
        "  print(\"prob_salaries_total_s :\", prob_salaries_total_s)\n",
        "\n",
        "  \n",
        "  prob_total_j = (statuses['junior'] + k) / (n + len(statuses) * k) \n",
        "  print(\"prob_total_j :\", prob_total_j)\n",
        "  prob_total_s = (statuses['senior'] + k) / (n + len(statuses) * k) \n",
        "  print(\"prob_total_s :\", prob_total_s)\n",
        "\n",
        "  prob_junior =  prob_department_total_j * prob_ages_total_j * prob_salaries_total_j * prob_total_j\n",
        "  prob_senior =  prob_department_total_s * prob_ages_total_s * prob_salaries_total_s * prob_total_s\n",
        "  print('prob_junior:', prob_junior)\n",
        "  print('prob_senior:', prob_senior)\n",
        "\n",
        "  return [prob_junior, prob_senior]\n",
        "\n"
      ],
      "execution_count": 0,
      "outputs": []
    },
    {
      "cell_type": "markdown",
      "metadata": {
        "id": "57i_z-j69Kd-",
        "colab_type": "text"
      },
      "source": [
        "## <b> Execution </b>"
      ]
    },
    {
      "cell_type": "code",
      "metadata": {
        "id": "5HO55Ppzm8st",
        "colab_type": "code",
        "colab": {
          "base_uri": "https://localhost:8080/",
          "height": 403
        },
        "outputId": "b10f3c77-94de-4c8a-d185-2cad01d7310a"
      },
      "source": [
        "data = [['marketing', '31 ... 35', '46k ... 50k'], ['sales', '31 ... 35', '66k ... 70k']]\n",
        "results = []\n",
        "for tupl in data:\n",
        "  results.append(predict_new(tupl))\n",
        "\n",
        "print(results)"
      ],
      "execution_count": 97,
      "outputs": [
        {
          "output_type": "stream",
          "text": [
            "['marketing', '31 ... 35', '46k ... 50k']\n",
            "prob_department_total_j : 0.2\n",
            "prob_department_total_s : 0.2222222222222222\n",
            "prob_ages_total_j : 0.25\n",
            "prob_ages_total_s : 0.2727272727272727\n",
            "prob_salaries_total_j : 0.25\n",
            "prob_salaries_total_s : 0.2727272727272727\n",
            "prob_total_j : 0.5384615384615384\n",
            "prob_total_s : 0.46153846153846156\n",
            "prob_junior: 0.006730769230769231\n",
            "prob_senior: 0.007628734901462173\n",
            "['sales', '31 ... 35', '66k ... 70k']\n",
            "prob_department_total_j : 0.3\n",
            "prob_department_total_s : 0.2222222222222222\n",
            "prob_ages_total_j : 0.25\n",
            "prob_ages_total_s : 0.2727272727272727\n",
            "prob_salaries_total_j : 0.08333333333333333\n",
            "prob_salaries_total_s : 0.2727272727272727\n",
            "prob_total_j : 0.5384615384615384\n",
            "prob_total_s : 0.46153846153846156\n",
            "prob_junior: 0.003365384615384615\n",
            "prob_senior: 0.007628734901462173\n",
            "[[0.006730769230769231, 0.007628734901462173], [0.003365384615384615, 0.007628734901462173]]\n"
          ],
          "name": "stdout"
        }
      ]
    },
    {
      "cell_type": "code",
      "metadata": {
        "id": "zp9eapPPB4K0",
        "colab_type": "code",
        "colab": {}
      },
      "source": [
        ""
      ],
      "execution_count": 0,
      "outputs": []
    }
  ]
}